{
  "nbformat": 4,
  "nbformat_minor": 0,
  "metadata": {
    "colab": {
      "provenance": [],
      "gpuType": "T4"
    },
    "kernelspec": {
      "name": "python3",
      "display_name": "Python 3"
    },
    "language_info": {
      "name": "python"
    },
    "accelerator": "GPU"
  },
  "cells": [
    {
      "cell_type": "markdown",
      "source": [
        "# Stock Prediction RNN"
      ],
      "metadata": {
        "id": "ULJVgkrw0A2K"
      }
    },
    {
      "cell_type": "markdown",
      "source": [
        "In this project, I will use Recurrent Neural Network regressor for a time series kind of prediction problem. Predict stock price of Apple company 7 days in advance.\n",
        "\n",
        "The particular network I will use is Long Term Short Memory (LTSM) from RNN,"
      ],
      "metadata": {
        "id": "3H5LtyB20E2P"
      }
    },
    {
      "cell_type": "markdown",
      "source": [
        "## Part 1: Loading the data\n",
        "\n",
        "\n",
        "\n"
      ],
      "metadata": {
        "id": "NC-r2cic4ezC"
      }
    },
    {
      "cell_type": "code",
      "source": [
        "import numpy as np\n",
        "import pandas as pd\n",
        "import matplotlib.pyplot as plt\n",
        "\n",
        "import torch.nn as nn\n",
        "import torch\n",
        "from torch.autograd import Variable\n",
        "from torch.utils.data import Dataset, DataLoader"
      ],
      "metadata": {
        "id": "gY5Fq4mS0Ece"
      },
      "execution_count": 1,
      "outputs": []
    },
    {
      "cell_type": "code",
      "execution_count": 2,
      "metadata": {
        "colab": {
          "base_uri": "https://localhost:8080/",
          "height": 77
        },
        "id": "SeViC1ZazEIr",
        "outputId": "a4d1eb9f-6a58-4e3a-ac08-1a6a15ee11ca"
      },
      "outputs": [
        {
          "output_type": "display_data",
          "data": {
            "text/plain": [
              "<IPython.core.display.HTML object>"
            ],
            "text/html": [
              "\n",
              "     <input type=\"file\" id=\"files-75f32c63-2eb8-4549-8231-174b1e292d9d\" name=\"files[]\" multiple disabled\n",
              "        style=\"border:none\" />\n",
              "     <output id=\"result-75f32c63-2eb8-4549-8231-174b1e292d9d\">\n",
              "      Upload widget is only available when the cell has been executed in the\n",
              "      current browser session. Please rerun this cell to enable.\n",
              "      </output>\n",
              "      <script>// Copyright 2017 Google LLC\n",
              "//\n",
              "// Licensed under the Apache License, Version 2.0 (the \"License\");\n",
              "// you may not use this file except in compliance with the License.\n",
              "// You may obtain a copy of the License at\n",
              "//\n",
              "//      http://www.apache.org/licenses/LICENSE-2.0\n",
              "//\n",
              "// Unless required by applicable law or agreed to in writing, software\n",
              "// distributed under the License is distributed on an \"AS IS\" BASIS,\n",
              "// WITHOUT WARRANTIES OR CONDITIONS OF ANY KIND, either express or implied.\n",
              "// See the License for the specific language governing permissions and\n",
              "// limitations under the License.\n",
              "\n",
              "/**\n",
              " * @fileoverview Helpers for google.colab Python module.\n",
              " */\n",
              "(function(scope) {\n",
              "function span(text, styleAttributes = {}) {\n",
              "  const element = document.createElement('span');\n",
              "  element.textContent = text;\n",
              "  for (const key of Object.keys(styleAttributes)) {\n",
              "    element.style[key] = styleAttributes[key];\n",
              "  }\n",
              "  return element;\n",
              "}\n",
              "\n",
              "// Max number of bytes which will be uploaded at a time.\n",
              "const MAX_PAYLOAD_SIZE = 100 * 1024;\n",
              "\n",
              "function _uploadFiles(inputId, outputId) {\n",
              "  const steps = uploadFilesStep(inputId, outputId);\n",
              "  const outputElement = document.getElementById(outputId);\n",
              "  // Cache steps on the outputElement to make it available for the next call\n",
              "  // to uploadFilesContinue from Python.\n",
              "  outputElement.steps = steps;\n",
              "\n",
              "  return _uploadFilesContinue(outputId);\n",
              "}\n",
              "\n",
              "// This is roughly an async generator (not supported in the browser yet),\n",
              "// where there are multiple asynchronous steps and the Python side is going\n",
              "// to poll for completion of each step.\n",
              "// This uses a Promise to block the python side on completion of each step,\n",
              "// then passes the result of the previous step as the input to the next step.\n",
              "function _uploadFilesContinue(outputId) {\n",
              "  const outputElement = document.getElementById(outputId);\n",
              "  const steps = outputElement.steps;\n",
              "\n",
              "  const next = steps.next(outputElement.lastPromiseValue);\n",
              "  return Promise.resolve(next.value.promise).then((value) => {\n",
              "    // Cache the last promise value to make it available to the next\n",
              "    // step of the generator.\n",
              "    outputElement.lastPromiseValue = value;\n",
              "    return next.value.response;\n",
              "  });\n",
              "}\n",
              "\n",
              "/**\n",
              " * Generator function which is called between each async step of the upload\n",
              " * process.\n",
              " * @param {string} inputId Element ID of the input file picker element.\n",
              " * @param {string} outputId Element ID of the output display.\n",
              " * @return {!Iterable<!Object>} Iterable of next steps.\n",
              " */\n",
              "function* uploadFilesStep(inputId, outputId) {\n",
              "  const inputElement = document.getElementById(inputId);\n",
              "  inputElement.disabled = false;\n",
              "\n",
              "  const outputElement = document.getElementById(outputId);\n",
              "  outputElement.innerHTML = '';\n",
              "\n",
              "  const pickedPromise = new Promise((resolve) => {\n",
              "    inputElement.addEventListener('change', (e) => {\n",
              "      resolve(e.target.files);\n",
              "    });\n",
              "  });\n",
              "\n",
              "  const cancel = document.createElement('button');\n",
              "  inputElement.parentElement.appendChild(cancel);\n",
              "  cancel.textContent = 'Cancel upload';\n",
              "  const cancelPromise = new Promise((resolve) => {\n",
              "    cancel.onclick = () => {\n",
              "      resolve(null);\n",
              "    };\n",
              "  });\n",
              "\n",
              "  // Wait for the user to pick the files.\n",
              "  const files = yield {\n",
              "    promise: Promise.race([pickedPromise, cancelPromise]),\n",
              "    response: {\n",
              "      action: 'starting',\n",
              "    }\n",
              "  };\n",
              "\n",
              "  cancel.remove();\n",
              "\n",
              "  // Disable the input element since further picks are not allowed.\n",
              "  inputElement.disabled = true;\n",
              "\n",
              "  if (!files) {\n",
              "    return {\n",
              "      response: {\n",
              "        action: 'complete',\n",
              "      }\n",
              "    };\n",
              "  }\n",
              "\n",
              "  for (const file of files) {\n",
              "    const li = document.createElement('li');\n",
              "    li.append(span(file.name, {fontWeight: 'bold'}));\n",
              "    li.append(span(\n",
              "        `(${file.type || 'n/a'}) - ${file.size} bytes, ` +\n",
              "        `last modified: ${\n",
              "            file.lastModifiedDate ? file.lastModifiedDate.toLocaleDateString() :\n",
              "                                    'n/a'} - `));\n",
              "    const percent = span('0% done');\n",
              "    li.appendChild(percent);\n",
              "\n",
              "    outputElement.appendChild(li);\n",
              "\n",
              "    const fileDataPromise = new Promise((resolve) => {\n",
              "      const reader = new FileReader();\n",
              "      reader.onload = (e) => {\n",
              "        resolve(e.target.result);\n",
              "      };\n",
              "      reader.readAsArrayBuffer(file);\n",
              "    });\n",
              "    // Wait for the data to be ready.\n",
              "    let fileData = yield {\n",
              "      promise: fileDataPromise,\n",
              "      response: {\n",
              "        action: 'continue',\n",
              "      }\n",
              "    };\n",
              "\n",
              "    // Use a chunked sending to avoid message size limits. See b/62115660.\n",
              "    let position = 0;\n",
              "    do {\n",
              "      const length = Math.min(fileData.byteLength - position, MAX_PAYLOAD_SIZE);\n",
              "      const chunk = new Uint8Array(fileData, position, length);\n",
              "      position += length;\n",
              "\n",
              "      const base64 = btoa(String.fromCharCode.apply(null, chunk));\n",
              "      yield {\n",
              "        response: {\n",
              "          action: 'append',\n",
              "          file: file.name,\n",
              "          data: base64,\n",
              "        },\n",
              "      };\n",
              "\n",
              "      let percentDone = fileData.byteLength === 0 ?\n",
              "          100 :\n",
              "          Math.round((position / fileData.byteLength) * 100);\n",
              "      percent.textContent = `${percentDone}% done`;\n",
              "\n",
              "    } while (position < fileData.byteLength);\n",
              "  }\n",
              "\n",
              "  // All done.\n",
              "  yield {\n",
              "    response: {\n",
              "      action: 'complete',\n",
              "    }\n",
              "  };\n",
              "}\n",
              "\n",
              "scope.google = scope.google || {};\n",
              "scope.google.colab = scope.google.colab || {};\n",
              "scope.google.colab._files = {\n",
              "  _uploadFiles,\n",
              "  _uploadFilesContinue,\n",
              "};\n",
              "})(self);\n",
              "</script> "
            ]
          },
          "metadata": {}
        },
        {
          "output_type": "stream",
          "name": "stdout",
          "text": [
            "Saving all_stocks_5yr.csv to all_stocks_5yr.csv\n"
          ]
        }
      ],
      "source": [
        "from google.colab import files\n",
        "uploaded = files.upload()\n"
      ]
    },
    {
      "cell_type": "code",
      "source": [
        "dataset = data = pd.read_csv('all_stocks_5yr.csv')\n"
      ],
      "metadata": {
        "id": "7OOMq60m-BiZ"
      },
      "execution_count": 3,
      "outputs": []
    },
    {
      "cell_type": "code",
      "source": [
        "dataset"
      ],
      "metadata": {
        "colab": {
          "base_uri": "https://localhost:8080/",
          "height": 424
        },
        "id": "E4EqNsbDBGGf",
        "outputId": "2c05a8de-d5e4-41db-b4dc-fc162f5147c4"
      },
      "execution_count": 4,
      "outputs": [
        {
          "output_type": "execute_result",
          "data": {
            "text/plain": [
              "              date   open   high    low  close    volume Name\n",
              "0       2013-02-08  15.07  15.12  14.63  14.75   8407500  AAL\n",
              "1       2013-02-11  14.89  15.01  14.26  14.46   8882000  AAL\n",
              "2       2013-02-12  14.45  14.51  14.10  14.27   8126000  AAL\n",
              "3       2013-02-13  14.30  14.94  14.25  14.66  10259500  AAL\n",
              "4       2013-02-14  14.94  14.96  13.16  13.99  31879900  AAL\n",
              "...            ...    ...    ...    ...    ...       ...  ...\n",
              "619035  2018-02-01  76.84  78.27  76.69  77.82   2982259  ZTS\n",
              "619036  2018-02-02  77.53  78.12  76.73  76.78   2595187  ZTS\n",
              "619037  2018-02-05  76.64  76.92  73.18  73.83   2962031  ZTS\n",
              "619038  2018-02-06  72.74  74.56  72.13  73.27   4924323  ZTS\n",
              "619039  2018-02-07  72.70  75.00  72.69  73.86   4534912  ZTS\n",
              "\n",
              "[619040 rows x 7 columns]"
            ],
            "text/html": [
              "\n",
              "  <div id=\"df-a46cb786-6cb2-4ca3-8cd7-2a3d550c708c\" class=\"colab-df-container\">\n",
              "    <div>\n",
              "<style scoped>\n",
              "    .dataframe tbody tr th:only-of-type {\n",
              "        vertical-align: middle;\n",
              "    }\n",
              "\n",
              "    .dataframe tbody tr th {\n",
              "        vertical-align: top;\n",
              "    }\n",
              "\n",
              "    .dataframe thead th {\n",
              "        text-align: right;\n",
              "    }\n",
              "</style>\n",
              "<table border=\"1\" class=\"dataframe\">\n",
              "  <thead>\n",
              "    <tr style=\"text-align: right;\">\n",
              "      <th></th>\n",
              "      <th>date</th>\n",
              "      <th>open</th>\n",
              "      <th>high</th>\n",
              "      <th>low</th>\n",
              "      <th>close</th>\n",
              "      <th>volume</th>\n",
              "      <th>Name</th>\n",
              "    </tr>\n",
              "  </thead>\n",
              "  <tbody>\n",
              "    <tr>\n",
              "      <th>0</th>\n",
              "      <td>2013-02-08</td>\n",
              "      <td>15.07</td>\n",
              "      <td>15.12</td>\n",
              "      <td>14.63</td>\n",
              "      <td>14.75</td>\n",
              "      <td>8407500</td>\n",
              "      <td>AAL</td>\n",
              "    </tr>\n",
              "    <tr>\n",
              "      <th>1</th>\n",
              "      <td>2013-02-11</td>\n",
              "      <td>14.89</td>\n",
              "      <td>15.01</td>\n",
              "      <td>14.26</td>\n",
              "      <td>14.46</td>\n",
              "      <td>8882000</td>\n",
              "      <td>AAL</td>\n",
              "    </tr>\n",
              "    <tr>\n",
              "      <th>2</th>\n",
              "      <td>2013-02-12</td>\n",
              "      <td>14.45</td>\n",
              "      <td>14.51</td>\n",
              "      <td>14.10</td>\n",
              "      <td>14.27</td>\n",
              "      <td>8126000</td>\n",
              "      <td>AAL</td>\n",
              "    </tr>\n",
              "    <tr>\n",
              "      <th>3</th>\n",
              "      <td>2013-02-13</td>\n",
              "      <td>14.30</td>\n",
              "      <td>14.94</td>\n",
              "      <td>14.25</td>\n",
              "      <td>14.66</td>\n",
              "      <td>10259500</td>\n",
              "      <td>AAL</td>\n",
              "    </tr>\n",
              "    <tr>\n",
              "      <th>4</th>\n",
              "      <td>2013-02-14</td>\n",
              "      <td>14.94</td>\n",
              "      <td>14.96</td>\n",
              "      <td>13.16</td>\n",
              "      <td>13.99</td>\n",
              "      <td>31879900</td>\n",
              "      <td>AAL</td>\n",
              "    </tr>\n",
              "    <tr>\n",
              "      <th>...</th>\n",
              "      <td>...</td>\n",
              "      <td>...</td>\n",
              "      <td>...</td>\n",
              "      <td>...</td>\n",
              "      <td>...</td>\n",
              "      <td>...</td>\n",
              "      <td>...</td>\n",
              "    </tr>\n",
              "    <tr>\n",
              "      <th>619035</th>\n",
              "      <td>2018-02-01</td>\n",
              "      <td>76.84</td>\n",
              "      <td>78.27</td>\n",
              "      <td>76.69</td>\n",
              "      <td>77.82</td>\n",
              "      <td>2982259</td>\n",
              "      <td>ZTS</td>\n",
              "    </tr>\n",
              "    <tr>\n",
              "      <th>619036</th>\n",
              "      <td>2018-02-02</td>\n",
              "      <td>77.53</td>\n",
              "      <td>78.12</td>\n",
              "      <td>76.73</td>\n",
              "      <td>76.78</td>\n",
              "      <td>2595187</td>\n",
              "      <td>ZTS</td>\n",
              "    </tr>\n",
              "    <tr>\n",
              "      <th>619037</th>\n",
              "      <td>2018-02-05</td>\n",
              "      <td>76.64</td>\n",
              "      <td>76.92</td>\n",
              "      <td>73.18</td>\n",
              "      <td>73.83</td>\n",
              "      <td>2962031</td>\n",
              "      <td>ZTS</td>\n",
              "    </tr>\n",
              "    <tr>\n",
              "      <th>619038</th>\n",
              "      <td>2018-02-06</td>\n",
              "      <td>72.74</td>\n",
              "      <td>74.56</td>\n",
              "      <td>72.13</td>\n",
              "      <td>73.27</td>\n",
              "      <td>4924323</td>\n",
              "      <td>ZTS</td>\n",
              "    </tr>\n",
              "    <tr>\n",
              "      <th>619039</th>\n",
              "      <td>2018-02-07</td>\n",
              "      <td>72.70</td>\n",
              "      <td>75.00</td>\n",
              "      <td>72.69</td>\n",
              "      <td>73.86</td>\n",
              "      <td>4534912</td>\n",
              "      <td>ZTS</td>\n",
              "    </tr>\n",
              "  </tbody>\n",
              "</table>\n",
              "<p>619040 rows × 7 columns</p>\n",
              "</div>\n",
              "    <div class=\"colab-df-buttons\">\n",
              "\n",
              "  <div class=\"colab-df-container\">\n",
              "    <button class=\"colab-df-convert\" onclick=\"convertToInteractive('df-a46cb786-6cb2-4ca3-8cd7-2a3d550c708c')\"\n",
              "            title=\"Convert this dataframe to an interactive table.\"\n",
              "            style=\"display:none;\">\n",
              "\n",
              "  <svg xmlns=\"http://www.w3.org/2000/svg\" height=\"24px\" viewBox=\"0 -960 960 960\">\n",
              "    <path d=\"M120-120v-720h720v720H120Zm60-500h600v-160H180v160Zm220 220h160v-160H400v160Zm0 220h160v-160H400v160ZM180-400h160v-160H180v160Zm440 0h160v-160H620v160ZM180-180h160v-160H180v160Zm440 0h160v-160H620v160Z\"/>\n",
              "  </svg>\n",
              "    </button>\n",
              "\n",
              "  <style>\n",
              "    .colab-df-container {\n",
              "      display:flex;\n",
              "      gap: 12px;\n",
              "    }\n",
              "\n",
              "    .colab-df-convert {\n",
              "      background-color: #E8F0FE;\n",
              "      border: none;\n",
              "      border-radius: 50%;\n",
              "      cursor: pointer;\n",
              "      display: none;\n",
              "      fill: #1967D2;\n",
              "      height: 32px;\n",
              "      padding: 0 0 0 0;\n",
              "      width: 32px;\n",
              "    }\n",
              "\n",
              "    .colab-df-convert:hover {\n",
              "      background-color: #E2EBFA;\n",
              "      box-shadow: 0px 1px 2px rgba(60, 64, 67, 0.3), 0px 1px 3px 1px rgba(60, 64, 67, 0.15);\n",
              "      fill: #174EA6;\n",
              "    }\n",
              "\n",
              "    .colab-df-buttons div {\n",
              "      margin-bottom: 4px;\n",
              "    }\n",
              "\n",
              "    [theme=dark] .colab-df-convert {\n",
              "      background-color: #3B4455;\n",
              "      fill: #D2E3FC;\n",
              "    }\n",
              "\n",
              "    [theme=dark] .colab-df-convert:hover {\n",
              "      background-color: #434B5C;\n",
              "      box-shadow: 0px 1px 3px 1px rgba(0, 0, 0, 0.15);\n",
              "      filter: drop-shadow(0px 1px 2px rgba(0, 0, 0, 0.3));\n",
              "      fill: #FFFFFF;\n",
              "    }\n",
              "  </style>\n",
              "\n",
              "    <script>\n",
              "      const buttonEl =\n",
              "        document.querySelector('#df-a46cb786-6cb2-4ca3-8cd7-2a3d550c708c button.colab-df-convert');\n",
              "      buttonEl.style.display =\n",
              "        google.colab.kernel.accessAllowed ? 'block' : 'none';\n",
              "\n",
              "      async function convertToInteractive(key) {\n",
              "        const element = document.querySelector('#df-a46cb786-6cb2-4ca3-8cd7-2a3d550c708c');\n",
              "        const dataTable =\n",
              "          await google.colab.kernel.invokeFunction('convertToInteractive',\n",
              "                                                    [key], {});\n",
              "        if (!dataTable) return;\n",
              "\n",
              "        const docLinkHtml = 'Like what you see? Visit the ' +\n",
              "          '<a target=\"_blank\" href=https://colab.research.google.com/notebooks/data_table.ipynb>data table notebook</a>'\n",
              "          + ' to learn more about interactive tables.';\n",
              "        element.innerHTML = '';\n",
              "        dataTable['output_type'] = 'display_data';\n",
              "        await google.colab.output.renderOutput(dataTable, element);\n",
              "        const docLink = document.createElement('div');\n",
              "        docLink.innerHTML = docLinkHtml;\n",
              "        element.appendChild(docLink);\n",
              "      }\n",
              "    </script>\n",
              "  </div>\n",
              "\n",
              "\n",
              "<div id=\"df-3a3d977d-8a23-4c89-aadf-057ebf7042a2\">\n",
              "  <button class=\"colab-df-quickchart\" onclick=\"quickchart('df-3a3d977d-8a23-4c89-aadf-057ebf7042a2')\"\n",
              "            title=\"Suggest charts.\"\n",
              "            style=\"display:none;\">\n",
              "\n",
              "<svg xmlns=\"http://www.w3.org/2000/svg\" height=\"24px\"viewBox=\"0 0 24 24\"\n",
              "     width=\"24px\">\n",
              "    <g>\n",
              "        <path d=\"M19 3H5c-1.1 0-2 .9-2 2v14c0 1.1.9 2 2 2h14c1.1 0 2-.9 2-2V5c0-1.1-.9-2-2-2zM9 17H7v-7h2v7zm4 0h-2V7h2v10zm4 0h-2v-4h2v4z\"/>\n",
              "    </g>\n",
              "</svg>\n",
              "  </button>\n",
              "\n",
              "<style>\n",
              "  .colab-df-quickchart {\n",
              "      --bg-color: #E8F0FE;\n",
              "      --fill-color: #1967D2;\n",
              "      --hover-bg-color: #E2EBFA;\n",
              "      --hover-fill-color: #174EA6;\n",
              "      --disabled-fill-color: #AAA;\n",
              "      --disabled-bg-color: #DDD;\n",
              "  }\n",
              "\n",
              "  [theme=dark] .colab-df-quickchart {\n",
              "      --bg-color: #3B4455;\n",
              "      --fill-color: #D2E3FC;\n",
              "      --hover-bg-color: #434B5C;\n",
              "      --hover-fill-color: #FFFFFF;\n",
              "      --disabled-bg-color: #3B4455;\n",
              "      --disabled-fill-color: #666;\n",
              "  }\n",
              "\n",
              "  .colab-df-quickchart {\n",
              "    background-color: var(--bg-color);\n",
              "    border: none;\n",
              "    border-radius: 50%;\n",
              "    cursor: pointer;\n",
              "    display: none;\n",
              "    fill: var(--fill-color);\n",
              "    height: 32px;\n",
              "    padding: 0;\n",
              "    width: 32px;\n",
              "  }\n",
              "\n",
              "  .colab-df-quickchart:hover {\n",
              "    background-color: var(--hover-bg-color);\n",
              "    box-shadow: 0 1px 2px rgba(60, 64, 67, 0.3), 0 1px 3px 1px rgba(60, 64, 67, 0.15);\n",
              "    fill: var(--button-hover-fill-color);\n",
              "  }\n",
              "\n",
              "  .colab-df-quickchart-complete:disabled,\n",
              "  .colab-df-quickchart-complete:disabled:hover {\n",
              "    background-color: var(--disabled-bg-color);\n",
              "    fill: var(--disabled-fill-color);\n",
              "    box-shadow: none;\n",
              "  }\n",
              "\n",
              "  .colab-df-spinner {\n",
              "    border: 2px solid var(--fill-color);\n",
              "    border-color: transparent;\n",
              "    border-bottom-color: var(--fill-color);\n",
              "    animation:\n",
              "      spin 1s steps(1) infinite;\n",
              "  }\n",
              "\n",
              "  @keyframes spin {\n",
              "    0% {\n",
              "      border-color: transparent;\n",
              "      border-bottom-color: var(--fill-color);\n",
              "      border-left-color: var(--fill-color);\n",
              "    }\n",
              "    20% {\n",
              "      border-color: transparent;\n",
              "      border-left-color: var(--fill-color);\n",
              "      border-top-color: var(--fill-color);\n",
              "    }\n",
              "    30% {\n",
              "      border-color: transparent;\n",
              "      border-left-color: var(--fill-color);\n",
              "      border-top-color: var(--fill-color);\n",
              "      border-right-color: var(--fill-color);\n",
              "    }\n",
              "    40% {\n",
              "      border-color: transparent;\n",
              "      border-right-color: var(--fill-color);\n",
              "      border-top-color: var(--fill-color);\n",
              "    }\n",
              "    60% {\n",
              "      border-color: transparent;\n",
              "      border-right-color: var(--fill-color);\n",
              "    }\n",
              "    80% {\n",
              "      border-color: transparent;\n",
              "      border-right-color: var(--fill-color);\n",
              "      border-bottom-color: var(--fill-color);\n",
              "    }\n",
              "    90% {\n",
              "      border-color: transparent;\n",
              "      border-bottom-color: var(--fill-color);\n",
              "    }\n",
              "  }\n",
              "</style>\n",
              "\n",
              "  <script>\n",
              "    async function quickchart(key) {\n",
              "      const quickchartButtonEl =\n",
              "        document.querySelector('#' + key + ' button');\n",
              "      quickchartButtonEl.disabled = true;  // To prevent multiple clicks.\n",
              "      quickchartButtonEl.classList.add('colab-df-spinner');\n",
              "      try {\n",
              "        const charts = await google.colab.kernel.invokeFunction(\n",
              "            'suggestCharts', [key], {});\n",
              "      } catch (error) {\n",
              "        console.error('Error during call to suggestCharts:', error);\n",
              "      }\n",
              "      quickchartButtonEl.classList.remove('colab-df-spinner');\n",
              "      quickchartButtonEl.classList.add('colab-df-quickchart-complete');\n",
              "    }\n",
              "    (() => {\n",
              "      let quickchartButtonEl =\n",
              "        document.querySelector('#df-3a3d977d-8a23-4c89-aadf-057ebf7042a2 button');\n",
              "      quickchartButtonEl.style.display =\n",
              "        google.colab.kernel.accessAllowed ? 'block' : 'none';\n",
              "    })();\n",
              "  </script>\n",
              "</div>\n",
              "    </div>\n",
              "  </div>\n"
            ]
          },
          "metadata": {},
          "execution_count": 4
        }
      ]
    },
    {
      "cell_type": "code",
      "source": [
        "group = dataset[[\"Name\"]].groupby(\"Name\").value_counts()\n",
        "group"
      ],
      "metadata": {
        "colab": {
          "base_uri": "https://localhost:8080/"
        },
        "id": "_ZS7QYIq_AGL",
        "outputId": "26b399cf-b6df-4137-d4e2-42ba74633997"
      },
      "execution_count": 5,
      "outputs": [
        {
          "output_type": "execute_result",
          "data": {
            "text/plain": [
              "Name\n",
              "A       1259\n",
              "AAL     1259\n",
              "AAP     1259\n",
              "AAPL    1259\n",
              "ABBV    1259\n",
              "        ... \n",
              "XYL     1259\n",
              "YUM     1259\n",
              "ZBH     1259\n",
              "ZION    1259\n",
              "ZTS     1259\n",
              "Length: 505, dtype: int64"
            ]
          },
          "metadata": {},
          "execution_count": 5
        }
      ]
    },
    {
      "cell_type": "code",
      "source": [
        "dataset_aapl = dataset[dataset['Name']=='AAPL'].close.values"
      ],
      "metadata": {
        "id": "3HmmWeWgBlOP"
      },
      "execution_count": 6,
      "outputs": []
    },
    {
      "cell_type": "code",
      "source": [
        "dataset_aapl"
      ],
      "metadata": {
        "colab": {
          "base_uri": "https://localhost:8080/"
        },
        "id": "agvAP_XoBomu",
        "outputId": "0d598bbf-661c-444b-d85a-884b176c6193"
      },
      "execution_count": 7,
      "outputs": [
        {
          "output_type": "execute_result",
          "data": {
            "text/plain": [
              "array([ 67.8542,  68.5614,  66.8428, ..., 156.49  , 163.03  , 159.54  ])"
            ]
          },
          "metadata": {},
          "execution_count": 7
        }
      ]
    },
    {
      "cell_type": "code",
      "source": [
        "\n",
        "\n",
        "dataset_aapl = dataset_aapl.reshape(dataset_aapl.shape[0], 1)"
      ],
      "metadata": {
        "id": "xcYUEZFDBt1Y"
      },
      "execution_count": 8,
      "outputs": []
    },
    {
      "cell_type": "code",
      "source": [
        "dataset_aapl"
      ],
      "metadata": {
        "colab": {
          "base_uri": "https://localhost:8080/"
        },
        "id": "-Q99EnhYCAuk",
        "outputId": "602d7285-d1c0-4bb2-e680-33eca569d7a2"
      },
      "execution_count": 9,
      "outputs": [
        {
          "output_type": "execute_result",
          "data": {
            "text/plain": [
              "array([[ 67.8542],\n",
              "       [ 68.5614],\n",
              "       [ 66.8428],\n",
              "       ...,\n",
              "       [156.49  ],\n",
              "       [163.03  ],\n",
              "       [159.54  ]])"
            ]
          },
          "metadata": {},
          "execution_count": 9
        }
      ]
    },
    {
      "cell_type": "code",
      "source": [
        "dataset_aapl.shape"
      ],
      "metadata": {
        "colab": {
          "base_uri": "https://localhost:8080/"
        },
        "id": "MveMjgylTayK",
        "outputId": "436e39a3-0309-4951-e7f8-e7b06541c9b2"
      },
      "execution_count": 10,
      "outputs": [
        {
          "output_type": "execute_result",
          "data": {
            "text/plain": [
              "(1259, 1)"
            ]
          },
          "metadata": {},
          "execution_count": 10
        }
      ]
    },
    {
      "cell_type": "markdown",
      "source": [
        "#### Feature Scaling"
      ],
      "metadata": {
        "id": "AXNhTlGtTVLp"
      }
    },
    {
      "cell_type": "code",
      "source": [
        "from sklearn.preprocessing import MinMaxScaler\n",
        "\n",
        "sc = MinMaxScaler(feature_range = (0, 1))\n",
        "\n",
        "dataset_aapl = sc.fit_transform(dataset_aapl)"
      ],
      "metadata": {
        "id": "WIcTxNV8CFhL"
      },
      "execution_count": 11,
      "outputs": []
    },
    {
      "cell_type": "code",
      "source": [
        "dataset_aapl.shape"
      ],
      "metadata": {
        "colab": {
          "base_uri": "https://localhost:8080/"
        },
        "id": "gxgdArKDeOAj",
        "outputId": "67545204-9113-40a9-c61c-7641a91f36d1"
      },
      "execution_count": 12,
      "outputs": [
        {
          "output_type": "execute_result",
          "data": {
            "text/plain": [
              "(1259, 1)"
            ]
          },
          "metadata": {},
          "execution_count": 12
        }
      ]
    },
    {
      "cell_type": "markdown",
      "source": [
        "#### Slipt to squences for later training"
      ],
      "metadata": {
        "id": "T3ZR7jFqT0iV"
      }
    },
    {
      "cell_type": "markdown",
      "source": [
        "Build the function to create 7 day slices"
      ],
      "metadata": {
        "id": "YtmXGGGdXBuv"
      }
    },
    {
      "cell_type": "code",
      "source": [
        "def processData(dataset, num_day):\n",
        "  X, Y= [], []\n",
        "  for i in range(len(dataset) - num_day - 1):\n",
        "    X.append(dataset[i: (i + num_day), 0])\n",
        "    Y.append(dataset[(i + num_day), 0])\n",
        "  return np.array(X),np.array(Y)\n",
        "\n"
      ],
      "metadata": {
        "id": "wGx8P4nTVrAg"
      },
      "execution_count": 13,
      "outputs": []
    },
    {
      "cell_type": "code",
      "source": [
        "X, Y = processData(dataset_aapl, 7)\n"
      ],
      "metadata": {
        "id": "J6h2s2liYLrz"
      },
      "execution_count": 14,
      "outputs": []
    },
    {
      "cell_type": "code",
      "source": [
        "X.shape"
      ],
      "metadata": {
        "colab": {
          "base_uri": "https://localhost:8080/"
        },
        "id": "rhbU-u3Dedhp",
        "outputId": "eee9a13f-e939-42ab-b51e-7d2a28cf56a8"
      },
      "execution_count": 15,
      "outputs": [
        {
          "output_type": "execute_result",
          "data": {
            "text/plain": [
              "(1251, 7)"
            ]
          },
          "metadata": {},
          "execution_count": 15
        }
      ]
    },
    {
      "cell_type": "code",
      "source": [
        "Y.shape"
      ],
      "metadata": {
        "colab": {
          "base_uri": "https://localhost:8080/"
        },
        "id": "MWyT4B_ien4q",
        "outputId": "398dd17f-ef1d-4193-c14f-a183722c6420"
      },
      "execution_count": 16,
      "outputs": [
        {
          "output_type": "execute_result",
          "data": {
            "text/plain": [
              "(1251,)"
            ]
          },
          "metadata": {},
          "execution_count": 16
        }
      ]
    },
    {
      "cell_type": "markdown",
      "source": [
        "## Part 2: Split Train and Test"
      ],
      "metadata": {
        "id": "tgvTPD0Hey61"
      }
    },
    {
      "cell_type": "code",
      "source": [
        "X_train, X_test = X[:int(X.shape[0]*0.80)],X[int(X.shape[0]*0.80):]\n",
        "Y_train, Y_test = Y[:int(Y.shape[0]*0.80)],Y[int(Y.shape[0]*0.80):]"
      ],
      "metadata": {
        "id": "BJEj-4wne_Dv"
      },
      "execution_count": 17,
      "outputs": []
    },
    {
      "cell_type": "code",
      "source": [
        "X_test"
      ],
      "metadata": {
        "colab": {
          "base_uri": "https://localhost:8080/"
        },
        "id": "LfmbDr1sfhBW",
        "outputId": "4e829076-6dcc-44f4-9fb5-4313da9765ff"
      },
      "execution_count": 18,
      "outputs": [
        {
          "output_type": "execute_result",
          "data": {
            "text/plain": [
              "array([[0.53324732, 0.53097957, 0.5909131 , ..., 0.59358582, 0.60338576,\n",
              "        0.61342868],\n",
              "       [0.53097957, 0.5909131 , 0.5891313 , ..., 0.60338576, 0.61342868,\n",
              "        0.61755923],\n",
              "       [0.5909131 , 0.5891313 , 0.59358582, ..., 0.61342868, 0.61755923,\n",
              "        0.6206369 ],\n",
              "       ...,\n",
              "       [0.9591804 , 0.93399212, 0.93723177, ..., 0.90046173, 0.90418733,\n",
              "        0.90702202],\n",
              "       [0.93399212, 0.93723177, 0.90847987, ..., 0.90418733, 0.90702202,\n",
              "        0.84806038],\n",
              "       [0.93723177, 0.90847987, 0.90046173, ..., 0.90702202, 0.84806038,\n",
              "        0.81558288]])"
            ]
          },
          "metadata": {},
          "execution_count": 18
        }
      ]
    },
    {
      "cell_type": "code",
      "source": [
        "X_test.shape"
      ],
      "metadata": {
        "colab": {
          "base_uri": "https://localhost:8080/"
        },
        "id": "r_zRImoOgcPz",
        "outputId": "5a20e478-e439-4394-b170-6df6c4f450f1"
      },
      "execution_count": 19,
      "outputs": [
        {
          "output_type": "execute_result",
          "data": {
            "text/plain": [
              "(251, 7)"
            ]
          },
          "metadata": {},
          "execution_count": 19
        }
      ]
    },
    {
      "cell_type": "code",
      "source": [
        "X_train = np.reshape(X_train, (X_train.shape[0], 1, X_train.shape[1]))\n",
        "X_test = np.reshape(X_test, (X_test.shape[0], 1, X_test.shape[1]))"
      ],
      "metadata": {
        "id": "rcNTPtIEfYZc"
      },
      "execution_count": 20,
      "outputs": []
    },
    {
      "cell_type": "code",
      "source": [
        "X_test.shape"
      ],
      "metadata": {
        "colab": {
          "base_uri": "https://localhost:8080/"
        },
        "id": "X3tzUVhygZGc",
        "outputId": "017f81f7-4d3e-4128-e46a-13ceb6f16bb9"
      },
      "execution_count": 21,
      "outputs": [
        {
          "output_type": "execute_result",
          "data": {
            "text/plain": [
              "(251, 1, 7)"
            ]
          },
          "metadata": {},
          "execution_count": 21
        }
      ]
    },
    {
      "cell_type": "code",
      "source": [
        "X_test"
      ],
      "metadata": {
        "colab": {
          "base_uri": "https://localhost:8080/"
        },
        "id": "hmuLJ8Sfgm64",
        "outputId": "f4fd9327-a7cc-4bf8-85cd-0acdf651395a"
      },
      "execution_count": 24,
      "outputs": [
        {
          "output_type": "execute_result",
          "data": {
            "text/plain": [
              "array([[[0.53324732, 0.53097957, 0.5909131 , ..., 0.59358582,\n",
              "         0.60338576, 0.61342868]],\n",
              "\n",
              "       [[0.53097957, 0.5909131 , 0.5891313 , ..., 0.60338576,\n",
              "         0.61342868, 0.61755923]],\n",
              "\n",
              "       [[0.5909131 , 0.5891313 , 0.59358582, ..., 0.61342868,\n",
              "         0.61755923, 0.6206369 ]],\n",
              "\n",
              "       ...,\n",
              "\n",
              "       [[0.9591804 , 0.93399212, 0.93723177, ..., 0.90046173,\n",
              "         0.90418733, 0.90702202]],\n",
              "\n",
              "       [[0.93399212, 0.93723177, 0.90847987, ..., 0.90418733,\n",
              "         0.90702202, 0.84806038]],\n",
              "\n",
              "       [[0.93723177, 0.90847987, 0.90046173, ..., 0.90702202,\n",
              "         0.84806038, 0.81558288]]])"
            ]
          },
          "metadata": {},
          "execution_count": 24
        }
      ]
    },
    {
      "cell_type": "markdown",
      "source": [
        "## Part 3: Build the RNN regression Model"
      ],
      "metadata": {
        "id": "HXjxiLWvh0vd"
      }
    },
    {
      "cell_type": "markdown",
      "source": [
        "Build Kera RNN Model"
      ],
      "metadata": {
        "id": "QRQiGj-r5hsv"
      }
    },
    {
      "cell_type": "code",
      "source": [
        "class RNN(nn.Module):\n",
        "    def __init__(self, i_size, h_size, n_layers, o_size, dropout=0.1, bidirectional=True):\n",
        "        super(RNN, self).__init__()\n",
        "        self.num_directions = bidirectional+1\n",
        "        self.rnn = nn.LSTM(\n",
        "            input_size=i_size,\n",
        "            hidden_size=h_size,\n",
        "            num_layers=n_layers,\n",
        "            dropout=dropout,\n",
        "            bidirectional=bidirectional\n",
        "        )\n",
        "        self.out = nn.Linear(h_size, o_size)\n",
        "\n",
        "    def forward(self, x, h_state):\n",
        "        r_out, hidden_state = self.rnn(x, h_state)\n",
        "\n",
        "        hidden_size = hidden_state[-1].size(-1)\n",
        "        r_out = r_out.view(-1, self.num_directions, hidden_size)\n",
        "        outs = self.out(r_out)\n",
        "\n",
        "        return outs, hidden_state"
      ],
      "metadata": {
        "id": "WTCGli85hgsR"
      },
      "execution_count": 25,
      "outputs": []
    },
    {
      "cell_type": "markdown",
      "source": [
        "Set up the hyperparameter and set loss function and optimiser"
      ],
      "metadata": {
        "id": "Li40KgOp5_T7"
      }
    },
    {
      "cell_type": "code",
      "source": [
        "# Global variable\n",
        "INPUT_SIZE = 7\n",
        "HIDDEN_SIZE = 64\n",
        "NUM_LAYERS = 3\n",
        "OUTPUT_SIZE = 1\n",
        "BATCH_SIZE = 128\n",
        "# Hyper parameters\n",
        "\n",
        "learning_rate = 0.001\n",
        "num_epochs = 300\n",
        "\n",
        "rnn = RNN(INPUT_SIZE, HIDDEN_SIZE, NUM_LAYERS, OUTPUT_SIZE,bidirectional=False)\n",
        "#Ensure I use GPU\n",
        "rnn.cuda()\n",
        "\n",
        "optimiser = torch.optim.Adam(rnn.parameters(), lr=learning_rate)\n",
        "criterion = nn.MSELoss()\n",
        "\n",
        "hidden_state = None"
      ],
      "metadata": {
        "id": "ESTV2WNOjlqN"
      },
      "execution_count": 26,
      "outputs": []
    },
    {
      "cell_type": "code",
      "source": [
        "rnn"
      ],
      "metadata": {
        "colab": {
          "base_uri": "https://localhost:8080/"
        },
        "id": "4sTeRiQ6m80H",
        "outputId": "f835808d-a7ec-4b23-e1eb-f9cb6c3185cf"
      },
      "execution_count": 27,
      "outputs": [
        {
          "output_type": "execute_result",
          "data": {
            "text/plain": [
              "RNN(\n",
              "  (rnn): LSTM(7, 64, num_layers=3, dropout=0.1)\n",
              "  (out): Linear(in_features=64, out_features=1, bias=True)\n",
              ")"
            ]
          },
          "metadata": {},
          "execution_count": 27
        }
      ]
    },
    {
      "cell_type": "markdown",
      "source": [
        "See the trainning process and the improvment from backpropagation and optimization"
      ],
      "metadata": {
        "id": "_qkUfP-E5fPx"
      }
    },
    {
      "cell_type": "code",
      "source": [
        "history = []\n",
        "X_test_cuda = torch.tensor(X_test).float().cuda()\n",
        "Y_test_cuda = torch.tensor(Y_test).float().cuda()\n",
        "\n",
        "# I use all the data in one batch\n",
        "inputs_cuda = torch.tensor(X_train).float().cuda()\n",
        "labels_cuda = torch.tensor(Y_train).float().cuda()\n",
        "\n",
        "for epoch in range(num_epochs):\n",
        "    rnn.train()\n",
        "    output, _ = rnn(inputs_cuda, hidden_state)\n",
        "\n",
        "    loss = criterion(output[:,0,:].view(-1), labels_cuda)\n",
        "    optimiser.zero_grad()\n",
        "    loss.backward()                     # back propagation\n",
        "    optimiser.step()                    # update the parameters\n",
        "\n",
        "    if epoch % 20 == 0:\n",
        "        rnn.eval()\n",
        "        test_output, _ = rnn(X_test_cuda, hidden_state)\n",
        "        test_loss = criterion(test_output.view(-1), Y_test_cuda)\n",
        "        print('epoch {}, loss {}, eval loss {}'.format(epoch, loss.item(), test_loss.item()))\n",
        "    else:\n",
        "        print('epoch {}, loss {}'.format(epoch, loss.item()))\n",
        "    history.append(loss.item())"
      ],
      "metadata": {
        "colab": {
          "base_uri": "https://localhost:8080/"
        },
        "id": "TZHJDyn4p0gz",
        "outputId": "3d551e0a-891c-48d3-d72c-93d8699387ed"
      },
      "execution_count": 29,
      "outputs": [
        {
          "output_type": "stream",
          "name": "stdout",
          "text": [
            "epoch 0, loss 0.0008318363688886166, eval loss 0.00738941365852952\n",
            "epoch 1, loss 0.0007848048117011786\n",
            "epoch 2, loss 0.0008311158162541687\n",
            "epoch 3, loss 0.0008463201811537147\n",
            "epoch 4, loss 0.0008882716065272689\n",
            "epoch 5, loss 0.0008189526852220297\n",
            "epoch 6, loss 0.0009578182944096625\n",
            "epoch 7, loss 0.0008224462508223951\n",
            "epoch 8, loss 0.0008354662568308413\n",
            "epoch 9, loss 0.0008976383833214641\n",
            "epoch 10, loss 0.0008486169390380383\n",
            "epoch 11, loss 0.0008852693717926741\n",
            "epoch 12, loss 0.000781087321229279\n",
            "epoch 13, loss 0.0007828527013771236\n",
            "epoch 14, loss 0.0008098621619865298\n",
            "epoch 15, loss 0.0008305225055664778\n",
            "epoch 16, loss 0.0007797569269314408\n",
            "epoch 17, loss 0.0008505975129082799\n",
            "epoch 18, loss 0.0007604268030263484\n",
            "epoch 19, loss 0.000825191440526396\n",
            "epoch 20, loss 0.0008141579455696046, eval loss 0.007426807656884193\n",
            "epoch 21, loss 0.0008165922481566668\n",
            "epoch 22, loss 0.0008656353456899524\n",
            "epoch 23, loss 0.0007459435728378594\n",
            "epoch 24, loss 0.0007826372748240829\n",
            "epoch 25, loss 0.0007927620899863541\n",
            "epoch 26, loss 0.0008223606273531914\n",
            "epoch 27, loss 0.0008264631615020335\n",
            "epoch 28, loss 0.00081346818478778\n",
            "epoch 29, loss 0.0008039446547627449\n",
            "epoch 30, loss 0.0007635156507603824\n",
            "epoch 31, loss 0.0008390475995838642\n",
            "epoch 32, loss 0.0008219240698963404\n",
            "epoch 33, loss 0.0008463198319077492\n",
            "epoch 34, loss 0.0007967330748215318\n",
            "epoch 35, loss 0.0008096765377558768\n",
            "epoch 36, loss 0.0007619692478328943\n",
            "epoch 37, loss 0.0007421974441967905\n",
            "epoch 38, loss 0.0007448136457242072\n",
            "epoch 39, loss 0.000798322435002774\n",
            "epoch 40, loss 0.0008472330518998206, eval loss 0.007965214550495148\n",
            "epoch 41, loss 0.0008090691408142447\n",
            "epoch 42, loss 0.0008095618686638772\n",
            "epoch 43, loss 0.0007980577647686005\n",
            "epoch 44, loss 0.0007971746381372213\n",
            "epoch 45, loss 0.0007517059566453099\n",
            "epoch 46, loss 0.000718799710739404\n",
            "epoch 47, loss 0.0007913000881671906\n",
            "epoch 48, loss 0.0008464251877740026\n",
            "epoch 49, loss 0.0007262325962074101\n",
            "epoch 50, loss 0.0007444084039889276\n",
            "epoch 51, loss 0.0007939282804727554\n",
            "epoch 52, loss 0.0007783983601257205\n",
            "epoch 53, loss 0.0007350710802711546\n",
            "epoch 54, loss 0.0007722531445324421\n",
            "epoch 55, loss 0.0007785315974615514\n",
            "epoch 56, loss 0.0008342755027115345\n",
            "epoch 57, loss 0.0007832383271306753\n",
            "epoch 58, loss 0.0007805582717992365\n",
            "epoch 59, loss 0.0007391854305751622\n",
            "epoch 60, loss 0.0007351097301580012, eval loss 0.006051240488886833\n",
            "epoch 61, loss 0.0007339191506616771\n",
            "epoch 62, loss 0.0007031046552583575\n",
            "epoch 63, loss 0.0008231538231484592\n",
            "epoch 64, loss 0.0007547367713414133\n",
            "epoch 65, loss 0.0007743589812889695\n",
            "epoch 66, loss 0.0007534027681685984\n",
            "epoch 67, loss 0.0007717522676102817\n",
            "epoch 68, loss 0.0007154678460210562\n",
            "epoch 69, loss 0.000753290019929409\n",
            "epoch 70, loss 0.0007836296572349966\n",
            "epoch 71, loss 0.0007214441429823637\n",
            "epoch 72, loss 0.0007778338622301817\n",
            "epoch 73, loss 0.0007295875693671405\n",
            "epoch 74, loss 0.0007068325649015605\n",
            "epoch 75, loss 0.0008410716545768082\n",
            "epoch 76, loss 0.0007294199313037097\n",
            "epoch 77, loss 0.0007865950465202332\n",
            "epoch 78, loss 0.0007367920479737222\n",
            "epoch 79, loss 0.0007468205294571817\n",
            "epoch 80, loss 0.0006996931042522192, eval loss 0.006358671933412552\n",
            "epoch 81, loss 0.0007550840964540839\n",
            "epoch 82, loss 0.0007654742221347988\n",
            "epoch 83, loss 0.0007431164267472923\n",
            "epoch 84, loss 0.0007845771033316851\n",
            "epoch 85, loss 0.000742151343729347\n",
            "epoch 86, loss 0.0007343942997977138\n",
            "epoch 87, loss 0.0007024448132142425\n",
            "epoch 88, loss 0.0008524083532392979\n",
            "epoch 89, loss 0.0007036650786176324\n",
            "epoch 90, loss 0.0007664962322451174\n",
            "epoch 91, loss 0.0006922216271050274\n",
            "epoch 92, loss 0.0007502090884372592\n",
            "epoch 93, loss 0.0007636056980118155\n",
            "epoch 94, loss 0.0007060955394990742\n",
            "epoch 95, loss 0.0007673411164432764\n",
            "epoch 96, loss 0.0007834799471311271\n",
            "epoch 97, loss 0.0007285968749783933\n",
            "epoch 98, loss 0.0007384169730357826\n",
            "epoch 99, loss 0.0007474607555195689\n",
            "epoch 100, loss 0.0006962351617403328, eval loss 0.00662611797451973\n",
            "epoch 101, loss 0.0007740443106740713\n",
            "epoch 102, loss 0.0007368921069428325\n",
            "epoch 103, loss 0.0007449829718098044\n",
            "epoch 104, loss 0.0006989765097387135\n",
            "epoch 105, loss 0.0007003615028224885\n",
            "epoch 106, loss 0.0006486612837761641\n",
            "epoch 107, loss 0.0007410164107568562\n",
            "epoch 108, loss 0.0007284894236363471\n",
            "epoch 109, loss 0.0008207139908336103\n",
            "epoch 110, loss 0.0007630164036527276\n",
            "epoch 111, loss 0.000705368525814265\n",
            "epoch 112, loss 0.0007798338192515075\n",
            "epoch 113, loss 0.0006884357426315546\n",
            "epoch 114, loss 0.0007385415374301374\n",
            "epoch 115, loss 0.0007185417925938964\n",
            "epoch 116, loss 0.0007257054676301777\n",
            "epoch 117, loss 0.0007449699332937598\n",
            "epoch 118, loss 0.0007455438026227057\n",
            "epoch 119, loss 0.000701834331266582\n",
            "epoch 120, loss 0.0007431397098116577, eval loss 0.004480337258428335\n",
            "epoch 121, loss 0.0007376020075753331\n",
            "epoch 122, loss 0.0006746422732248902\n",
            "epoch 123, loss 0.0008252317202277482\n",
            "epoch 124, loss 0.0007155548082664609\n",
            "epoch 125, loss 0.0007569543085992336\n",
            "epoch 126, loss 0.0007799378945492208\n",
            "epoch 127, loss 0.000679544173181057\n",
            "epoch 128, loss 0.0007441890775226057\n",
            "epoch 129, loss 0.0007436373853124678\n",
            "epoch 130, loss 0.0007127540302462876\n",
            "epoch 131, loss 0.0006733176414854825\n",
            "epoch 132, loss 0.0007441061898134649\n",
            "epoch 133, loss 0.0007088779238983989\n",
            "epoch 134, loss 0.0006293823244050145\n",
            "epoch 135, loss 0.0007449532859027386\n",
            "epoch 136, loss 0.0006808534380979836\n",
            "epoch 137, loss 0.0007165796123445034\n",
            "epoch 138, loss 0.0007238680263981223\n",
            "epoch 139, loss 0.0007601323304697871\n",
            "epoch 140, loss 0.0007123497780412436, eval loss 0.006980489008128643\n",
            "epoch 141, loss 0.0006972074625082314\n",
            "epoch 142, loss 0.0007056038593873382\n",
            "epoch 143, loss 0.0006635173340328038\n",
            "epoch 144, loss 0.0007617195369675756\n",
            "epoch 145, loss 0.000679516582749784\n",
            "epoch 146, loss 0.000660163932479918\n",
            "epoch 147, loss 0.0007237393292598426\n",
            "epoch 148, loss 0.0006862357258796692\n",
            "epoch 149, loss 0.000707132974639535\n",
            "epoch 150, loss 0.000703938421793282\n",
            "epoch 151, loss 0.0007034539594314992\n",
            "epoch 152, loss 0.0005890062311664224\n",
            "epoch 153, loss 0.0007005756488069892\n",
            "epoch 154, loss 0.0006734965136274695\n",
            "epoch 155, loss 0.0007244862499646842\n",
            "epoch 156, loss 0.0007042859215289354\n",
            "epoch 157, loss 0.0005984018207527697\n",
            "epoch 158, loss 0.0006642904481850564\n",
            "epoch 159, loss 0.0006911971722729504\n",
            "epoch 160, loss 0.0006381315761245787, eval loss 0.006542472168803215\n",
            "epoch 161, loss 0.000709616462700069\n",
            "epoch 162, loss 0.0007155232597142458\n",
            "epoch 163, loss 0.0006591889541596174\n",
            "epoch 164, loss 0.000683237100020051\n",
            "epoch 165, loss 0.0006819457048550248\n",
            "epoch 166, loss 0.0006837408873252571\n",
            "epoch 167, loss 0.0006572151323780417\n",
            "epoch 168, loss 0.0007381914183497429\n",
            "epoch 169, loss 0.0007192628108896315\n",
            "epoch 170, loss 0.0006653169984929264\n",
            "epoch 171, loss 0.000610389921348542\n",
            "epoch 172, loss 0.000695764843840152\n",
            "epoch 173, loss 0.0006887547206133604\n",
            "epoch 174, loss 0.0006959050078876317\n",
            "epoch 175, loss 0.0006368585163727403\n",
            "epoch 176, loss 0.0006273859762586653\n",
            "epoch 177, loss 0.000667210144456476\n",
            "epoch 178, loss 0.0006162392674013972\n",
            "epoch 179, loss 0.0006939201266504824\n",
            "epoch 180, loss 0.0006693272734992206, eval loss 0.006018735468387604\n",
            "epoch 181, loss 0.0006735528004355729\n",
            "epoch 182, loss 0.0006928088841959834\n",
            "epoch 183, loss 0.0006933819386176765\n",
            "epoch 184, loss 0.000609076174441725\n",
            "epoch 185, loss 0.0006793508655391634\n",
            "epoch 186, loss 0.0006040551234036684\n",
            "epoch 187, loss 0.0006460165604948997\n",
            "epoch 188, loss 0.0006802246207371354\n",
            "epoch 189, loss 0.0006149617838673294\n",
            "epoch 190, loss 0.0006187750259414315\n",
            "epoch 191, loss 0.0006389528862200677\n",
            "epoch 192, loss 0.0006363671855069697\n",
            "epoch 193, loss 0.0006256173946894705\n",
            "epoch 194, loss 0.000605760607868433\n",
            "epoch 195, loss 0.0006953912088647485\n",
            "epoch 196, loss 0.0006167911924421787\n",
            "epoch 197, loss 0.0006020272267051041\n",
            "epoch 198, loss 0.0006373022333718836\n",
            "epoch 199, loss 0.0007192746270447969\n",
            "epoch 200, loss 0.0006266816053539515, eval loss 0.004620624240487814\n",
            "epoch 201, loss 0.0006578834727406502\n",
            "epoch 202, loss 0.0006607506074942648\n",
            "epoch 203, loss 0.0006565524381585419\n",
            "epoch 204, loss 0.0005933212232775986\n",
            "epoch 205, loss 0.000620220962446183\n",
            "epoch 206, loss 0.0006450240034610033\n",
            "epoch 207, loss 0.0005922885611653328\n",
            "epoch 208, loss 0.0006291652098298073\n",
            "epoch 209, loss 0.0006517193396575749\n",
            "epoch 210, loss 0.0005981407593935728\n",
            "epoch 211, loss 0.0006559146568179131\n",
            "epoch 212, loss 0.0006650087889283895\n",
            "epoch 213, loss 0.0006448440253734589\n",
            "epoch 214, loss 0.0006220207433216274\n",
            "epoch 215, loss 0.000612128060311079\n",
            "epoch 216, loss 0.0005958937690593302\n",
            "epoch 217, loss 0.000596333178691566\n",
            "epoch 218, loss 0.0006182651850394905\n",
            "epoch 219, loss 0.0006112739210948348\n",
            "epoch 220, loss 0.0006242487579584122, eval loss 0.004299395717680454\n",
            "epoch 221, loss 0.000667219574097544\n",
            "epoch 222, loss 0.0005896312068216503\n",
            "epoch 223, loss 0.0006864216411486268\n",
            "epoch 224, loss 0.0006428227061405778\n",
            "epoch 225, loss 0.0005860399687662721\n",
            "epoch 226, loss 0.0006307574803940952\n",
            "epoch 227, loss 0.0005801075021736324\n",
            "epoch 228, loss 0.0005733437719754875\n",
            "epoch 229, loss 0.0006441182340495288\n",
            "epoch 230, loss 0.0006145856459625065\n",
            "epoch 231, loss 0.0006718556978739798\n",
            "epoch 232, loss 0.000623064290266484\n",
            "epoch 233, loss 0.0006213356391526759\n",
            "epoch 234, loss 0.0005863760598003864\n",
            "epoch 235, loss 0.0006208260310813785\n",
            "epoch 236, loss 0.0005808067508041859\n",
            "epoch 237, loss 0.0006272809696383774\n",
            "epoch 238, loss 0.0006169507978484035\n",
            "epoch 239, loss 0.0006356046651490033\n",
            "epoch 240, loss 0.0006282334798015654, eval loss 0.00355305103585124\n",
            "epoch 241, loss 0.0006883337628096342\n",
            "epoch 242, loss 0.0005988316843286157\n",
            "epoch 243, loss 0.0006534219137392938\n",
            "epoch 244, loss 0.0006018225103616714\n",
            "epoch 245, loss 0.0006392033537849784\n",
            "epoch 246, loss 0.0006052489043213427\n",
            "epoch 247, loss 0.0005916758091188967\n",
            "epoch 248, loss 0.0006713955663144588\n",
            "epoch 249, loss 0.0006005892064422369\n",
            "epoch 250, loss 0.0005796335753984749\n",
            "epoch 251, loss 0.0006548970122821629\n",
            "epoch 252, loss 0.0006053598481230438\n",
            "epoch 253, loss 0.0006132089183665812\n",
            "epoch 254, loss 0.0005713843274861574\n",
            "epoch 255, loss 0.000608304631896317\n",
            "epoch 256, loss 0.0005987316835671663\n",
            "epoch 257, loss 0.0006176346796564758\n",
            "epoch 258, loss 0.0006038814317435026\n",
            "epoch 259, loss 0.0005935738445259631\n",
            "epoch 260, loss 0.0005910086911171675, eval loss 0.004966463427990675\n",
            "epoch 261, loss 0.0006063616019673645\n",
            "epoch 262, loss 0.0006128918030299246\n",
            "epoch 263, loss 0.0006172424764372408\n",
            "epoch 264, loss 0.000604600936640054\n",
            "epoch 265, loss 0.000648308196105063\n",
            "epoch 266, loss 0.0005874326452612877\n",
            "epoch 267, loss 0.0005934357759542763\n",
            "epoch 268, loss 0.0005660760216414928\n",
            "epoch 269, loss 0.0006250739679671824\n",
            "epoch 270, loss 0.000583954097237438\n",
            "epoch 271, loss 0.0005906532169319689\n",
            "epoch 272, loss 0.0005851431633345783\n",
            "epoch 273, loss 0.0006111489492468536\n",
            "epoch 274, loss 0.0005847293650731444\n",
            "epoch 275, loss 0.0006310279131866992\n",
            "epoch 276, loss 0.0005668867961503565\n",
            "epoch 277, loss 0.0005586937186308205\n",
            "epoch 278, loss 0.0006038357969373465\n",
            "epoch 279, loss 0.0005813378375023603\n",
            "epoch 280, loss 0.0006173155852593482, eval loss 0.004765511490404606\n",
            "epoch 281, loss 0.0005119222914800048\n",
            "epoch 282, loss 0.0005358783528208733\n",
            "epoch 283, loss 0.0006052175885997713\n",
            "epoch 284, loss 0.0005988784832879901\n",
            "epoch 285, loss 0.0006134693394415081\n",
            "epoch 286, loss 0.0005924541037529707\n",
            "epoch 287, loss 0.0005775878671556711\n",
            "epoch 288, loss 0.0006071807001717389\n",
            "epoch 289, loss 0.0006252647726796567\n",
            "epoch 290, loss 0.0005887256702408195\n",
            "epoch 291, loss 0.0005598357529379427\n",
            "epoch 292, loss 0.0006103091291151941\n",
            "epoch 293, loss 0.0005869413143955171\n",
            "epoch 294, loss 0.0005576331750489771\n",
            "epoch 295, loss 0.0005997559055685997\n",
            "epoch 296, loss 0.0005762285436503589\n",
            "epoch 297, loss 0.0006011560908518732\n",
            "epoch 298, loss 0.0005650647217407823\n",
            "epoch 299, loss 0.0005831554881297052\n"
          ]
        }
      ]
    },
    {
      "cell_type": "markdown",
      "source": [
        "The weight parameters"
      ],
      "metadata": {
        "id": "6DUpK3Ll6j2g"
      }
    },
    {
      "cell_type": "code",
      "source": [
        "rnn.out.weight"
      ],
      "metadata": {
        "colab": {
          "base_uri": "https://localhost:8080/"
        },
        "id": "FpWlWcWmqOMH",
        "outputId": "bce0c391-53a6-4f1f-ba64-92f27937053e"
      },
      "execution_count": 30,
      "outputs": [
        {
          "output_type": "execute_result",
          "data": {
            "text/plain": [
              "Parameter containing:\n",
              "tensor([[-0.0357, -0.0060,  0.0531, -0.0522, -0.0624,  0.0344, -0.0842,  0.0137,\n",
              "         -0.0555, -0.0361, -0.0785, -0.0693, -0.0136, -0.0993,  0.0036,  0.0002,\n",
              "         -0.0983, -0.0098,  0.0506, -0.0433,  0.0159,  0.0661, -0.1243,  0.0835,\n",
              "          0.1135,  0.0390,  0.0091, -0.0788, -0.1135, -0.0958,  0.1234, -0.0744,\n",
              "         -0.0354,  0.0180, -0.0447,  0.0463,  0.0485,  0.0048,  0.0825,  0.1021,\n",
              "          0.0757, -0.0914, -0.0502, -0.0871,  0.0207,  0.0198, -0.0488, -0.0591,\n",
              "          0.0550,  0.0972,  0.1209, -0.0242,  0.1109,  0.1262, -0.1129, -0.0255,\n",
              "          0.0593,  0.0145, -0.0219,  0.0645, -0.0756, -0.1106, -0.0599, -0.1061]],\n",
              "       device='cuda:0', requires_grad=True)"
            ]
          },
          "metadata": {},
          "execution_count": 30
        }
      ]
    },
    {
      "cell_type": "code",
      "source": [
        "for param in rnn.parameters():\n",
        "    print(param.data)"
      ],
      "metadata": {
        "colab": {
          "base_uri": "https://localhost:8080/"
        },
        "id": "E65GR4GJqWrr",
        "outputId": "ac133833-4e91-4c56-f728-4c684a410249"
      },
      "execution_count": 31,
      "outputs": [
        {
          "output_type": "stream",
          "name": "stdout",
          "text": [
            "tensor([[-0.0442, -0.0560, -0.0541,  ...,  0.0784,  0.0145,  0.0439],\n",
            "        [ 0.1228,  0.1314,  0.0638,  ...,  0.0004,  0.0660,  0.0191],\n",
            "        [ 0.0082, -0.0340,  0.1239,  ..., -0.0541,  0.1702, -0.0335],\n",
            "        ...,\n",
            "        [ 0.0612, -0.0240,  0.0861,  ..., -0.0828,  0.1341,  0.0092],\n",
            "        [-0.0750,  0.0770, -0.0614,  ...,  0.0803,  0.1162,  0.0220],\n",
            "        [ 0.1272, -0.0060,  0.1420,  ...,  0.1448, -0.0809, -0.0818]],\n",
            "       device='cuda:0')\n",
            "tensor([[-0.0572,  0.1178, -0.0581,  ..., -0.0225, -0.0854, -0.1316],\n",
            "        [ 0.0090, -0.0349,  0.0759,  ..., -0.0868,  0.0283, -0.0155],\n",
            "        [ 0.0388,  0.0858, -0.1299,  ...,  0.1220, -0.1409,  0.0488],\n",
            "        ...,\n",
            "        [ 0.1081,  0.0895, -0.0685,  ...,  0.0280,  0.0935,  0.0702],\n",
            "        [ 0.0998, -0.0645, -0.0929,  ...,  0.1204,  0.0504,  0.0246],\n",
            "        [-0.0019, -0.0648,  0.0741,  ...,  0.1583,  0.0323, -0.0643]],\n",
            "       device='cuda:0')\n",
            "tensor([-0.0690, -0.1006,  0.0649,  0.0366, -0.0803,  0.1241, -0.0665, -0.1034,\n",
            "         0.0694,  0.0039, -0.0905,  0.1218, -0.0609,  0.0334, -0.0560, -0.0886,\n",
            "         0.1224,  0.1131,  0.0852, -0.0959,  0.0596, -0.0449,  0.1310,  0.0657,\n",
            "        -0.0450,  0.0696,  0.0666, -0.0571, -0.0725,  0.1044, -0.0258,  0.1001,\n",
            "         0.3470, -0.0376,  0.0055, -0.0645, -0.0634,  0.1497,  0.1366, -0.1002,\n",
            "        -0.0186,  0.1002,  0.0263, -0.0128,  0.1747, -0.0500,  0.0889,  0.0426,\n",
            "        -0.1059, -0.0406, -0.0275,  0.0202, -0.1084, -0.0826,  0.0293,  0.0558,\n",
            "        -0.0778,  0.0232, -0.0409, -0.0497, -0.0338,  0.0496, -0.0144,  0.0445,\n",
            "        -0.1157,  0.1214,  0.1036,  0.0161,  0.0170, -0.0187, -0.0297, -0.1148,\n",
            "        -0.0733, -0.0399, -0.0280,  0.0092,  0.0265,  0.0564,  0.0902, -0.0726,\n",
            "         0.0929,  0.1114,  0.0548,  0.0318,  0.1079, -0.0798, -0.0392, -0.0492,\n",
            "        -0.0728,  0.0892, -0.0428,  0.0633, -0.0628, -0.0186, -0.0473,  0.0895,\n",
            "        -0.0020,  0.1187, -0.0475,  0.0973,  0.1192, -0.0219,  0.0028,  0.0043,\n",
            "         0.0509, -0.1078,  0.0321,  0.0478,  0.0366, -0.0383, -0.0448,  0.0256,\n",
            "         0.0848, -0.1031,  0.0640, -0.0519,  0.1177, -0.0038, -0.0729, -0.0239,\n",
            "         0.0919, -0.0882,  0.0609,  0.0275, -0.0483, -0.1023, -0.0914,  0.0063,\n",
            "         0.0927, -0.0929,  0.0308,  0.0164,  0.0473,  0.0092, -0.0790, -0.0475,\n",
            "         0.0852,  0.0579, -0.0593, -0.0565,  0.0597,  0.0245, -0.0215, -0.0503,\n",
            "        -0.0225, -0.1273,  0.1208,  0.0710, -0.1036,  0.0981,  0.0432, -0.0990,\n",
            "         0.0142, -0.0664, -0.1026,  0.0498,  0.0700,  0.0057, -0.0279,  0.0989,\n",
            "        -0.0176, -0.1069, -0.1075,  0.0907, -0.1079, -0.0884,  0.0613, -0.0681,\n",
            "        -0.1121,  0.0328,  0.0806, -0.0533, -0.0663, -0.0134, -0.0398, -0.0454,\n",
            "         0.0241,  0.0831,  0.0140, -0.0616, -0.0173, -0.0395,  0.0547, -0.0388,\n",
            "        -0.0218, -0.0975,  0.0600,  0.0052,  0.0077,  0.0135, -0.0994, -0.0627,\n",
            "         0.0702, -0.0774, -0.0429, -0.0358, -0.0632, -0.0827,  0.0839,  0.0882,\n",
            "         0.1730,  0.1636,  0.1177,  0.0603,  0.0419,  0.1229,  0.0551,  0.0961,\n",
            "        -0.0441, -0.0381,  0.0535, -0.0907, -0.1064, -0.0851, -0.0442,  0.0286,\n",
            "         0.0526,  0.0663,  0.0996,  0.0805, -0.0991,  0.0408,  0.1047,  0.0848,\n",
            "         0.2780, -0.0349,  0.0708, -0.1107,  0.1252,  0.1295, -0.0387,  0.0196,\n",
            "        -0.0534, -0.0229,  0.0786,  0.0423,  0.0704,  0.1179, -0.0527,  0.0465,\n",
            "        -0.0025, -0.0602, -0.0211,  0.0263,  0.0252, -0.0068, -0.0743, -0.0663,\n",
            "         0.0482,  0.0766,  0.0635, -0.1011,  0.1432,  0.0745, -0.1090,  0.0895],\n",
            "       device='cuda:0')\n",
            "tensor([-0.1137,  0.1064,  0.0789, -0.0495,  0.0084,  0.1259,  0.0792,  0.0970,\n",
            "        -0.0434,  0.2111, -0.0365, -0.0224,  0.1417,  0.0666,  0.0102,  0.0348,\n",
            "        -0.0507, -0.0537, -0.0980, -0.0901, -0.0447, -0.0626,  0.0136, -0.1107,\n",
            "        -0.0710,  0.0092,  0.0417, -0.0201, -0.1116, -0.0824,  0.0026,  0.1329,\n",
            "         0.2819,  0.0960,  0.0885,  0.0101, -0.0587, -0.0655,  0.0708,  0.0292,\n",
            "         0.0057,  0.1010,  0.0493,  0.0159,  0.1725,  0.0786,  0.1133,  0.0083,\n",
            "        -0.0302, -0.0196, -0.0410,  0.1355, -0.0583,  0.0668,  0.0305, -0.1218,\n",
            "         0.1040, -0.0719, -0.0521,  0.0835,  0.1397, -0.0189, -0.0750,  0.0062,\n",
            "         0.0852, -0.1074, -0.1137,  0.1116,  0.1168,  0.1060, -0.1126, -0.0798,\n",
            "         0.1328, -0.0476, -0.0389,  0.0280,  0.0273,  0.0871,  0.0526, -0.1148,\n",
            "        -0.0803,  0.0850, -0.0445,  0.1172, -0.1152, -0.0041, -0.0169,  0.0893,\n",
            "         0.1050,  0.0103, -0.0608,  0.0455, -0.0587,  0.0239,  0.0616,  0.1274,\n",
            "         0.0300,  0.0382, -0.1345, -0.1018,  0.0254, -0.0534, -0.0834,  0.1022,\n",
            "        -0.1001,  0.0755,  0.0482, -0.0679,  0.0696, -0.0479, -0.0416, -0.0794,\n",
            "         0.0557, -0.0460, -0.0094, -0.0280,  0.0579, -0.0534,  0.0959,  0.0755,\n",
            "         0.0751,  0.0628, -0.0043,  0.0173,  0.0981,  0.0624,  0.0959,  0.0887,\n",
            "         0.0337,  0.0722,  0.0396, -0.0178, -0.0734,  0.0147, -0.0299,  0.0465,\n",
            "         0.0007,  0.0081, -0.0229,  0.0186, -0.0905, -0.0596, -0.0072, -0.0614,\n",
            "        -0.1126,  0.0473,  0.0853, -0.0932,  0.0293, -0.0616,  0.0123,  0.0313,\n",
            "         0.1106, -0.0333,  0.0922,  0.0268,  0.0643,  0.1179, -0.1074, -0.0135,\n",
            "        -0.0044,  0.0887, -0.0824,  0.0393, -0.0368,  0.0050,  0.0339,  0.0904,\n",
            "         0.0359, -0.0319, -0.0480, -0.0773,  0.0846,  0.0144, -0.0066, -0.0589,\n",
            "        -0.0712,  0.0682, -0.1093,  0.0386, -0.1010,  0.0806,  0.1158, -0.0437,\n",
            "         0.1213, -0.0453,  0.1232,  0.0344, -0.1381,  0.0585,  0.0934,  0.1382,\n",
            "        -0.0501,  0.0153, -0.0042,  0.0458, -0.0221,  0.1143,  0.0399,  0.0941,\n",
            "         0.0565,  0.1773, -0.0307,  0.0209, -0.1043,  0.1077,  0.1267,  0.0749,\n",
            "         0.0413,  0.1566, -0.0339, -0.1086,  0.0216,  0.1406,  0.0940,  0.0551,\n",
            "        -0.0163, -0.0943, -0.1122,  0.1140,  0.0744, -0.0944,  0.1190,  0.0417,\n",
            "         0.2033, -0.0024, -0.0158, -0.0348, -0.1124,  0.0304,  0.1162,  0.0318,\n",
            "         0.0260,  0.1194, -0.0072,  0.0330,  0.0017,  0.0805,  0.0387, -0.0079,\n",
            "         0.0591,  0.0768, -0.0121, -0.0217, -0.0765, -0.0342, -0.0485, -0.0774,\n",
            "         0.0827, -0.0112, -0.0732,  0.0042,  0.0562,  0.0636,  0.0271, -0.0224],\n",
            "       device='cuda:0')\n",
            "tensor([[ 0.0544,  0.0275,  0.0504,  ..., -0.0942,  0.0272, -0.1600],\n",
            "        [-0.0909,  0.0422, -0.0791,  ...,  0.0345, -0.0364, -0.1740],\n",
            "        [-0.0393, -0.0459, -0.0475,  ..., -0.0044, -0.0353, -0.1153],\n",
            "        ...,\n",
            "        [-0.0681, -0.0009, -0.1267,  ..., -0.0313, -0.0570,  0.0130],\n",
            "        [ 0.0892, -0.0427, -0.0060,  ..., -0.0238, -0.0898, -0.2154],\n",
            "        [ 0.0032,  0.0752,  0.0073,  ...,  0.1155,  0.0280, -0.1577]],\n",
            "       device='cuda:0')\n",
            "tensor([[-0.1130,  0.1247, -0.0012,  ...,  0.0509, -0.0726, -0.0507],\n",
            "        [ 0.1229, -0.0709, -0.1150,  ...,  0.0716,  0.0104,  0.0968],\n",
            "        [-0.0744,  0.0003, -0.0796,  ...,  0.0093,  0.0741,  0.1141],\n",
            "        ...,\n",
            "        [ 0.0244, -0.0511, -0.0470,  ...,  0.0727,  0.0577,  0.0491],\n",
            "        [ 0.0472, -0.1162, -0.1084,  ..., -0.0925, -0.0614,  0.1348],\n",
            "        [ 0.0382,  0.0152, -0.1196,  ..., -0.0306,  0.0815,  0.0875]],\n",
            "       device='cuda:0')\n",
            "tensor([ 0.1423, -0.0649, -0.0017,  0.1005, -0.0885, -0.1333,  0.0954,  0.1307,\n",
            "         0.1198, -0.0743,  0.0809,  0.0926,  0.0372,  0.0836,  0.1104, -0.1161,\n",
            "         0.1437, -0.0826,  0.1137, -0.0248,  0.0921,  0.0730,  0.1114,  0.0341,\n",
            "         0.1191,  0.0999,  0.0005,  0.1258, -0.0376, -0.1032,  0.0169, -0.0543,\n",
            "        -0.0700, -0.0173, -0.0588,  0.0597,  0.1055, -0.0510, -0.0981, -0.0273,\n",
            "         0.0576, -0.0442, -0.0180, -0.0178,  0.0354,  0.1313,  0.1225, -0.0340,\n",
            "         0.0491,  0.1111, -0.0656, -0.0290,  0.0792,  0.1038,  0.0598,  0.1018,\n",
            "         0.0034,  0.0156, -0.0509, -0.0678,  0.0155,  0.0078, -0.0757,  0.1258,\n",
            "        -0.0965, -0.0530,  0.0393,  0.1095, -0.0679, -0.0256, -0.0444, -0.0391,\n",
            "        -0.0909, -0.0653, -0.1403, -0.0576, -0.0280,  0.0893,  0.0305, -0.0413,\n",
            "         0.0221,  0.0727,  0.0397, -0.1246, -0.1110,  0.0387,  0.0383, -0.0371,\n",
            "        -0.1313, -0.0323,  0.0068, -0.0451, -0.0838,  0.1136,  0.0992,  0.0185,\n",
            "        -0.0584, -0.0291, -0.0775,  0.1018, -0.1057, -0.0610, -0.1396, -0.0777,\n",
            "        -0.0083,  0.0385, -0.0598,  0.0515, -0.0688,  0.0703, -0.0471, -0.0542,\n",
            "        -0.0525, -0.0293, -0.1221,  0.0089,  0.1045,  0.0788, -0.1085,  0.1215,\n",
            "        -0.1144, -0.1113, -0.0538,  0.0226, -0.0271,  0.1156,  0.1223,  0.0880,\n",
            "        -0.0535, -0.0031, -0.1084,  0.0623, -0.0173,  0.1084, -0.0429,  0.0780,\n",
            "        -0.0550, -0.0188, -0.0148,  0.0977, -0.1062, -0.0186,  0.1240, -0.0623,\n",
            "         0.1197,  0.0943,  0.0392, -0.0921,  0.0270,  0.0210, -0.0998, -0.0177,\n",
            "         0.0307, -0.1087, -0.0734,  0.0678,  0.0476, -0.0375, -0.0157, -0.0853,\n",
            "         0.0901, -0.0738,  0.0937,  0.0422,  0.0238,  0.1347,  0.1123, -0.0010,\n",
            "        -0.0503,  0.1296, -0.0590,  0.0840, -0.0679, -0.0896,  0.0029, -0.1216,\n",
            "         0.0964, -0.0008, -0.0776, -0.1034,  0.0096,  0.0712, -0.0664, -0.0423,\n",
            "         0.0151, -0.0719, -0.1204, -0.0081, -0.0412, -0.0844,  0.0668, -0.0044,\n",
            "        -0.0593, -0.0889, -0.0504,  0.0727,  0.0315, -0.0474, -0.0530,  0.0317,\n",
            "        -0.0317, -0.0634, -0.0265,  0.0337,  0.0216,  0.1173, -0.0803,  0.1175,\n",
            "         0.1880,  0.0676, -0.0119, -0.0068, -0.0845, -0.0212,  0.0372, -0.0131,\n",
            "         0.0779,  0.0040, -0.0286,  0.0825,  0.1437, -0.0820, -0.0390,  0.0740,\n",
            "        -0.0784,  0.1641,  0.0957, -0.0396, -0.0762,  0.0222, -0.0706, -0.0241,\n",
            "        -0.0672, -0.0293,  0.0032,  0.0053, -0.0260, -0.0258, -0.0386,  0.1029,\n",
            "         0.0593, -0.0420, -0.1008,  0.1220,  0.0540, -0.1189, -0.0477,  0.0162,\n",
            "         0.0803, -0.1094, -0.1100,  0.0306,  0.0547, -0.1153,  0.1262,  0.0116],\n",
            "       device='cuda:0')\n",
            "tensor([ 0.1029, -0.1069, -0.0653,  0.0071,  0.0275,  0.0233, -0.0149,  0.0833,\n",
            "         0.0205, -0.1019,  0.0570,  0.0046,  0.0113, -0.0661,  0.1073,  0.0791,\n",
            "         0.0730,  0.1131,  0.0845,  0.0288,  0.0328, -0.0656,  0.0393,  0.0156,\n",
            "        -0.0627, -0.0150,  0.0480,  0.0986, -0.0241,  0.1053,  0.0780, -0.0480,\n",
            "        -0.0916, -0.0613,  0.1296, -0.0536, -0.0296,  0.1511,  0.0968,  0.0419,\n",
            "        -0.0102, -0.0382,  0.0515,  0.0950,  0.0774,  0.0671,  0.1183, -0.0253,\n",
            "         0.0898, -0.0162, -0.1079, -0.0923, -0.0248, -0.0847, -0.1149, -0.0088,\n",
            "        -0.0138,  0.0571,  0.0025,  0.0730,  0.0627, -0.0197, -0.1011, -0.0347,\n",
            "        -0.0430, -0.0011,  0.0863,  0.0487,  0.0006, -0.0698,  0.0476,  0.1264,\n",
            "         0.1263,  0.0480, -0.0435, -0.0497,  0.1089, -0.0815, -0.0075, -0.0299,\n",
            "         0.0650, -0.0838, -0.1097, -0.0608,  0.0946, -0.1121, -0.0079, -0.1245,\n",
            "        -0.0397,  0.0244, -0.0693,  0.1212, -0.0847, -0.0199,  0.0610, -0.0272,\n",
            "         0.0985, -0.0221, -0.0634,  0.0494,  0.0710,  0.0099, -0.1269,  0.0866,\n",
            "         0.1061,  0.0356,  0.0827, -0.0719, -0.0708,  0.1012,  0.1197,  0.0737,\n",
            "         0.0796, -0.0646, -0.0941, -0.0546, -0.0663, -0.1129, -0.1035,  0.1202,\n",
            "        -0.1006,  0.1210, -0.0025, -0.0742, -0.1176,  0.0043,  0.0509, -0.1135,\n",
            "        -0.0707, -0.0693, -0.0265, -0.0290, -0.0695,  0.0198,  0.0641, -0.1054,\n",
            "         0.0046,  0.0057,  0.1206, -0.0928,  0.0630, -0.0898, -0.1108, -0.0847,\n",
            "        -0.0845, -0.0947, -0.0556, -0.0646,  0.0837, -0.0396, -0.0225,  0.0455,\n",
            "        -0.0885, -0.0168,  0.0419,  0.0194,  0.0882, -0.0081,  0.0733,  0.1194,\n",
            "        -0.0859,  0.0395,  0.0434,  0.0713,  0.0790, -0.0709,  0.0823, -0.0044,\n",
            "         0.0544, -0.0911, -0.0428, -0.1066, -0.0850,  0.1125, -0.0416,  0.1033,\n",
            "        -0.0971, -0.0722, -0.0822, -0.0226, -0.0742,  0.0638, -0.0841,  0.0140,\n",
            "         0.0510,  0.1115,  0.0902,  0.0503, -0.0809, -0.0465, -0.0970, -0.0122,\n",
            "         0.0349,  0.0049,  0.0818, -0.0195,  0.0348, -0.0431,  0.0949,  0.0258,\n",
            "        -0.0319, -0.0297, -0.0187, -0.0451,  0.0898,  0.0398, -0.0279, -0.0440,\n",
            "        -0.0053,  0.0450,  0.0750,  0.0790, -0.0214,  0.1196,  0.0637,  0.0333,\n",
            "         0.0344, -0.1020,  0.0230, -0.0203, -0.0266,  0.1306,  0.0727,  0.0531,\n",
            "        -0.0851,  0.0741, -0.0526, -0.0945, -0.0373,  0.1001,  0.0133,  0.0401,\n",
            "         0.0966,  0.0547,  0.1254,  0.0648,  0.0127,  0.1140, -0.0300,  0.0975,\n",
            "        -0.0654, -0.0504,  0.0245,  0.0876, -0.0711,  0.0582, -0.1147,  0.1417,\n",
            "         0.0557,  0.0097, -0.0118,  0.0800,  0.0723,  0.0564,  0.0116,  0.0579],\n",
            "       device='cuda:0')\n",
            "tensor([[-0.0458, -0.1071,  0.1180,  ..., -0.0297,  0.0728, -0.0324],\n",
            "        [ 0.1183,  0.1184,  0.0603,  ..., -0.0588, -0.0346,  0.0091],\n",
            "        [ 0.0891, -0.1018,  0.0986,  ...,  0.0979, -0.0022,  0.0850],\n",
            "        ...,\n",
            "        [ 0.0666,  0.0105,  0.0024,  ...,  0.1195,  0.0181,  0.1271],\n",
            "        [-0.0367, -0.1019,  0.0665,  ..., -0.0436,  0.0708,  0.0256],\n",
            "        [-0.0102, -0.0168, -0.0918,  ..., -0.0276, -0.0104,  0.0235]],\n",
            "       device='cuda:0')\n",
            "tensor([[-0.0872,  0.0334,  0.0263,  ..., -0.0405, -0.0119,  0.1038],\n",
            "        [ 0.0779,  0.0486,  0.0649,  ...,  0.0910, -0.0649, -0.0098],\n",
            "        [ 0.0189, -0.1016,  0.0728,  ..., -0.0944,  0.1018, -0.1033],\n",
            "        ...,\n",
            "        [ 0.0966,  0.0697,  0.0981,  ...,  0.1162, -0.0705,  0.0266],\n",
            "        [ 0.0371, -0.1204, -0.1143,  ..., -0.0271,  0.0094, -0.0406],\n",
            "        [-0.1204, -0.0266, -0.1068,  ..., -0.0485, -0.0980,  0.0424]],\n",
            "       device='cuda:0')\n",
            "tensor([ 0.0873, -0.0756, -0.0842,  0.0186,  0.1183, -0.0303,  0.0721,  0.0356,\n",
            "        -0.0105,  0.0239, -0.0812, -0.1144,  0.0619, -0.0931,  0.0799, -0.0321,\n",
            "        -0.0688, -0.0873,  0.0957,  0.0855,  0.0544,  0.0791,  0.1222,  0.0805,\n",
            "         0.0342,  0.0216, -0.0003,  0.0270, -0.0285,  0.0732,  0.0257, -0.1082,\n",
            "        -0.0114, -0.0479, -0.0781,  0.0799, -0.0221,  0.0844, -0.1162, -0.0422,\n",
            "        -0.0905,  0.0134, -0.0569, -0.0829,  0.0206,  0.1046,  0.0420, -0.0513,\n",
            "        -0.0962, -0.1018, -0.0453,  0.0316,  0.0225,  0.0110,  0.0609, -0.0932,\n",
            "        -0.0663,  0.0920, -0.0477,  0.1067,  0.1237, -0.0876, -0.0076, -0.0530,\n",
            "        -0.1059,  0.1042, -0.0099,  0.0999, -0.1138, -0.0798, -0.1013, -0.0600,\n",
            "        -0.0499, -0.0729, -0.1186, -0.1185,  0.1232,  0.0402, -0.0059,  0.0068,\n",
            "        -0.0951,  0.0521,  0.0004,  0.0404, -0.0495, -0.0675, -0.0899, -0.0599,\n",
            "         0.0912, -0.0130, -0.0098,  0.0351,  0.0770, -0.1025, -0.0303, -0.0535,\n",
            "        -0.0304, -0.0869, -0.0052,  0.0018, -0.0876, -0.0346, -0.1280, -0.0962,\n",
            "        -0.1111, -0.0176,  0.0180,  0.0865,  0.1064,  0.0791, -0.0619,  0.0654,\n",
            "        -0.0167, -0.0093,  0.0852, -0.0877,  0.1324,  0.1142,  0.1105,  0.0890,\n",
            "         0.0533,  0.0105, -0.1150,  0.0648, -0.0899,  0.0300, -0.0977, -0.1065,\n",
            "        -0.1164, -0.0389, -0.1044, -0.1197, -0.1192, -0.0414,  0.0119,  0.0084,\n",
            "         0.0564,  0.0367, -0.0133,  0.0632, -0.1166,  0.0642, -0.0426,  0.0564,\n",
            "         0.0185, -0.1202, -0.0501, -0.0564,  0.0003,  0.0877, -0.0092, -0.0872,\n",
            "        -0.1208,  0.0476,  0.0911, -0.1192,  0.1159,  0.0312,  0.1043,  0.0726,\n",
            "        -0.0895, -0.0276, -0.1076,  0.0730,  0.0765, -0.0736, -0.0867, -0.1090,\n",
            "        -0.0945,  0.0839,  0.1166,  0.0503,  0.0780, -0.0257, -0.0177, -0.0464,\n",
            "        -0.0543, -0.1028,  0.0416, -0.0274,  0.0393,  0.0426, -0.0135,  0.0945,\n",
            "        -0.0448, -0.0856,  0.0732, -0.0991,  0.0486, -0.0607, -0.0617, -0.0649,\n",
            "         0.0201,  0.0248, -0.1054, -0.0041,  0.0343,  0.1007,  0.0222,  0.0427,\n",
            "         0.1105,  0.0529,  0.1144,  0.0591,  0.0343,  0.0986,  0.0154, -0.0030,\n",
            "        -0.0723, -0.1039,  0.0380, -0.1183,  0.0659,  0.1095, -0.0863,  0.0648,\n",
            "        -0.0521,  0.0802,  0.0613, -0.0689, -0.0707,  0.0989,  0.0756,  0.0104,\n",
            "         0.0971,  0.0016, -0.1052, -0.0831,  0.0543,  0.0006, -0.0845,  0.0733,\n",
            "         0.0519,  0.0714, -0.1126,  0.0909,  0.0839, -0.0391,  0.0574,  0.0217,\n",
            "         0.0084,  0.0029,  0.1174, -0.0451,  0.0979,  0.1224, -0.0610, -0.0120,\n",
            "        -0.0924,  0.0790, -0.0911,  0.1085, -0.0822, -0.0355, -0.0824, -0.0829],\n",
            "       device='cuda:0')\n",
            "tensor([ 4.1078e-02, -6.1207e-02,  3.0901e-02, -5.0024e-02,  1.2073e-01,\n",
            "         1.0159e-01,  1.2071e-01, -1.2819e-01, -9.3464e-02,  8.1135e-02,\n",
            "         8.6629e-02,  1.4337e-02, -1.1257e-01, -7.5966e-02, -7.3309e-02,\n",
            "        -1.4981e-02, -4.6784e-02, -3.4145e-02, -1.0601e-01, -1.0879e-01,\n",
            "         9.6092e-03,  4.8740e-02, -1.2084e-02, -5.7460e-02, -3.9954e-03,\n",
            "         1.7076e-02, -4.7963e-02,  6.0613e-02,  7.2633e-02, -4.8698e-02,\n",
            "        -4.7717e-02,  1.1161e-01,  7.2867e-02, -8.0046e-02,  1.1801e-02,\n",
            "        -3.8072e-02,  1.2196e-01, -4.8081e-02,  9.0159e-02,  4.6495e-02,\n",
            "         1.8097e-02, -7.8364e-02, -8.6882e-02, -4.5825e-02, -4.4074e-02,\n",
            "        -8.8885e-02, -1.0022e-01, -3.0181e-02,  9.2551e-02, -7.7733e-02,\n",
            "         1.2691e-01, -1.1086e-01,  1.2603e-01,  2.8709e-02, -2.8270e-02,\n",
            "        -5.3724e-02, -6.5856e-02,  4.6965e-02, -7.1961e-02,  9.6560e-02,\n",
            "        -8.9123e-02, -1.2126e-01,  9.7626e-02,  7.5031e-02, -5.4670e-02,\n",
            "        -6.0932e-03, -2.6875e-02, -6.1287e-02, -9.3592e-02, -2.3643e-02,\n",
            "         2.1546e-02, -3.0027e-03,  4.4673e-02,  9.9929e-02,  1.0694e-01,\n",
            "         8.2511e-02,  7.4839e-02,  5.1593e-02,  9.9146e-02,  5.8333e-02,\n",
            "        -1.3370e-01,  1.2133e-01, -3.4229e-04,  8.8353e-02, -8.3067e-03,\n",
            "        -4.6859e-02, -8.6840e-02,  1.0308e-01, -4.7428e-02, -9.4436e-02,\n",
            "        -2.8041e-03,  3.7170e-06, -1.0467e-02,  4.1437e-02, -4.8418e-02,\n",
            "         1.1264e-01, -6.1618e-02,  1.9505e-02, -4.4957e-02,  2.8681e-02,\n",
            "        -1.0107e-01,  1.1901e-01, -5.6613e-02, -9.6674e-02, -1.0820e-01,\n",
            "         1.0725e-01,  1.3780e-02, -4.4897e-02, -6.6143e-02,  6.9097e-02,\n",
            "        -4.2570e-02, -3.8511e-02,  1.0088e-01,  1.1008e-01,  1.1785e-01,\n",
            "         7.9959e-02,  8.5923e-02,  5.0517e-02,  1.2507e-01, -7.2428e-02,\n",
            "         6.8736e-02, -7.1918e-02,  5.8163e-02, -1.8068e-02, -1.4152e-02,\n",
            "         7.6121e-02,  8.1772e-02,  5.2935e-02, -6.2739e-02,  2.9025e-02,\n",
            "         1.3929e-02, -1.0932e-01,  7.5613e-02,  5.9424e-02, -1.5142e-02,\n",
            "        -4.4854e-02,  6.8407e-02,  2.9822e-02,  4.1737e-02,  1.9478e-03,\n",
            "         1.0587e-01,  1.8868e-02, -1.6770e-02, -6.2333e-02,  2.8115e-02,\n",
            "        -2.4767e-02,  1.0126e-01,  5.6283e-02,  1.2829e-02,  8.1220e-03,\n",
            "         9.1335e-02,  7.5901e-02, -6.7657e-03,  2.0643e-02,  2.6400e-02,\n",
            "         1.1894e-01, -9.6956e-02, -2.6743e-02, -7.0157e-02, -6.7396e-02,\n",
            "         3.6585e-02,  5.3967e-02,  2.7399e-02, -1.5332e-03, -9.5280e-02,\n",
            "         1.1473e-01, -9.4479e-02, -1.2003e-01, -7.4456e-02, -5.1771e-02,\n",
            "        -9.3251e-02, -9.8927e-02, -2.4409e-02, -9.9927e-02,  5.9343e-02,\n",
            "         6.4724e-02,  1.0689e-02,  9.3816e-02,  6.7068e-03, -6.3526e-02,\n",
            "        -6.2138e-02, -2.8322e-03, -1.2582e-01,  5.1131e-02,  5.3625e-02,\n",
            "         5.1161e-02, -3.3828e-02, -2.0561e-02,  9.7365e-02, -5.8653e-02,\n",
            "        -4.7602e-02, -1.2481e-02, -4.1983e-02,  4.0614e-03, -1.3298e-01,\n",
            "        -3.4093e-02,  9.9642e-02, -1.4175e-02,  8.8645e-02,  1.0202e-01,\n",
            "        -4.4772e-02, -3.6912e-02,  2.6592e-02, -2.7998e-02, -5.8570e-02,\n",
            "        -1.3086e-03,  4.9759e-02, -1.2368e-01,  2.6774e-02,  1.1896e-01,\n",
            "        -1.3172e-01, -6.4939e-02, -5.4282e-02,  1.1830e-01, -1.0827e-01,\n",
            "        -9.2129e-02,  8.2901e-02,  8.8014e-02,  3.6625e-02,  3.8269e-02,\n",
            "         1.4183e-02,  1.2363e-01,  6.7604e-02,  1.2035e-01,  3.2448e-02,\n",
            "         7.8362e-02,  1.2665e-03,  1.1579e-02,  9.9628e-02, -9.9535e-02,\n",
            "         1.1056e-01, -2.2771e-02, -4.3372e-02, -1.1428e-01,  9.6654e-02,\n",
            "         8.9447e-02,  9.1447e-02, -7.4421e-02, -9.7240e-02, -3.6116e-02,\n",
            "        -1.5294e-02, -1.3236e-01,  9.9794e-02,  1.5740e-02,  5.4692e-02,\n",
            "         1.2137e-02, -1.1976e-01,  7.6898e-02, -3.8924e-02,  1.7604e-02,\n",
            "         4.9728e-02,  7.2471e-02,  1.0148e-01, -2.7040e-03, -1.1091e-01,\n",
            "         1.0971e-01], device='cuda:0')\n",
            "tensor([[-0.0357, -0.0060,  0.0531, -0.0522, -0.0624,  0.0344, -0.0842,  0.0137,\n",
            "         -0.0555, -0.0361, -0.0785, -0.0693, -0.0136, -0.0993,  0.0036,  0.0002,\n",
            "         -0.0983, -0.0098,  0.0506, -0.0433,  0.0159,  0.0661, -0.1243,  0.0835,\n",
            "          0.1135,  0.0390,  0.0091, -0.0788, -0.1135, -0.0958,  0.1234, -0.0744,\n",
            "         -0.0354,  0.0180, -0.0447,  0.0463,  0.0485,  0.0048,  0.0825,  0.1021,\n",
            "          0.0757, -0.0914, -0.0502, -0.0871,  0.0207,  0.0198, -0.0488, -0.0591,\n",
            "          0.0550,  0.0972,  0.1209, -0.0242,  0.1109,  0.1262, -0.1129, -0.0255,\n",
            "          0.0593,  0.0145, -0.0219,  0.0645, -0.0756, -0.1106, -0.0599, -0.1061]],\n",
            "       device='cuda:0')\n",
            "tensor([0.1076], device='cuda:0')\n"
          ]
        }
      ]
    },
    {
      "cell_type": "markdown",
      "source": [
        "The visualization of the improvment of the loss."
      ],
      "metadata": {
        "id": "63bFfUAD62Cc"
      }
    },
    {
      "cell_type": "code",
      "source": [
        "plt.plot(history)"
      ],
      "metadata": {
        "colab": {
          "base_uri": "https://localhost:8080/",
          "height": 447
        },
        "id": "dnbQQkq8qcSX",
        "outputId": "ef4d9598-4668-4ed0-cc52-2aba864fffe6"
      },
      "execution_count": 32,
      "outputs": [
        {
          "output_type": "execute_result",
          "data": {
            "text/plain": [
              "[<matplotlib.lines.Line2D at 0x7f0e1272d630>]"
            ]
          },
          "metadata": {},
          "execution_count": 32
        },
        {
          "output_type": "display_data",
          "data": {
            "text/plain": [
              "<Figure size 640x480 with 1 Axes>"
            ],
            "image/png": "[encoded data removed]"
          },
          "metadata": {}
        }
      ]
    },
    {
      "cell_type": "markdown",
      "source": [
        "## Part 4: RNN regression Model Evaluation and stock Prediction"
      ],
      "metadata": {
        "id": "zMH5lilV7gOC"
      }
    },
    {
      "cell_type": "markdown",
      "source": [
        "Predict the test set"
      ],
      "metadata": {
        "id": "liX9S7Yw72Bo"
      }
    },
    {
      "cell_type": "code",
      "source": [
        "rnn.eval()\n",
        "# test_inputs = torch.tensor(X_test).float().cuda()\n",
        "test_predict, _ = rnn(X_test_cuda, hidden_state)\n",
        "test_predict_cpu = test_predict.cpu().detach().numpy()"
      ],
      "metadata": {
        "id": "6bjFVgFaqmsL"
      },
      "execution_count": 34,
      "outputs": []
    },
    {
      "cell_type": "code",
      "source": [
        "test_predict_cpu.shape"
      ],
      "metadata": {
        "colab": {
          "base_uri": "https://localhost:8080/"
        },
        "id": "_Uks6fnRqxSz",
        "outputId": "6ae8e901-58cc-4143-f21c-70f8b32df480"
      },
      "execution_count": 35,
      "outputs": [
        {
          "output_type": "execute_result",
          "data": {
            "text/plain": [
              "(251, 1, 1)"
            ]
          },
          "metadata": {},
          "execution_count": 35
        }
      ]
    },
    {
      "cell_type": "markdown",
      "source": [
        "Use Inverse transform to transform back the data to original value"
      ],
      "metadata": {
        "id": "njkIJSnQBn-1"
      }
    },
    {
      "cell_type": "code",
      "source": [
        "plt.plot(sc.inverse_transform(Y_test.reshape(-1,1)))\n",
        "plt.plot(sc.inverse_transform(test_predict_cpu.reshape(-1,1)))"
      ],
      "metadata": {
        "colab": {
          "base_uri": "https://localhost:8080/",
          "height": 447
        },
        "id": "TMwAHa6hq19o",
        "outputId": "78ab8312-25d9-407e-a5a4-f38ee9b09eca"
      },
      "execution_count": 36,
      "outputs": [
        {
          "output_type": "execute_result",
          "data": {
            "text/plain": [
              "[<matplotlib.lines.Line2D at 0x7f0e0b8a6380>]"
            ]
          },
          "metadata": {},
          "execution_count": 36
        },
        {
          "output_type": "display_data",
          "data": {
            "text/plain": [
              "<Figure size 640x480 with 1 Axes>"
            ],
            "image/png": "[encoded data removed]"
          },
          "metadata": {}
        }
      ]
    },
    {
      "cell_type": "markdown",
      "source": [
        "Plot Tran/test and prediction for the test set part"
      ],
      "metadata": {
        "id": "OFequPNQBxcM"
      }
    },
    {
      "cell_type": "code",
      "source": [
        "# plot original data\n",
        "plt.plot(sc.inverse_transform(Y.reshape(-1,1)), color='k')\n",
        "\n",
        "# train_inputs = torch.tensor(X_train).float().cuda()\n",
        "train_pred, hidden_state = rnn(inputs_cuda, None)\n",
        "train_pred_cpu = train_pred.cpu().detach().numpy()\n",
        "\n",
        "# use hidden state from previous training data\n",
        "test_predict, _ = rnn(X_test_cuda, hidden_state)\n",
        "test_predict_cpu = test_predict.cpu().detach().numpy()\n",
        "\n",
        "# plt.plot(scl.inverse_transform(y_test.reshape(-1,1)))\n",
        "split_pt = int(X.shape[0] * 0.80) + 7 # window_size\n",
        "plt.plot(np.arange(7, split_pt, 1), sc.inverse_transform(train_pred_cpu.reshape(-1,1)), color='b')\n",
        "plt.plot(np.arange(split_pt, split_pt + len(test_predict_cpu), 1), sc.inverse_transform(test_predict_cpu.reshape(-1,1)), color='r')\n",
        "\n",
        "# pretty up graph\n",
        "plt.xlabel('day')\n",
        "plt.ylabel('price of MMM stock')\n",
        "plt.legend(['original series','training fit','testing fit'], loc='center left', bbox_to_anchor=(1, 0.5))\n",
        "plt.show()\n"
      ],
      "metadata": {
        "colab": {
          "base_uri": "https://localhost:8080/",
          "height": 449
        },
        "id": "TYNYqPHMq3mD",
        "outputId": "1289ff67-6990-4100-e471-10f8c04e0a0f"
      },
      "execution_count": null,
      "outputs": [
        {
          "output_type": "display_data",
          "data": {
            "text/plain": [
              "<Figure size 640x480 with 1 Axes>"
            ],
            "image/png": "[encoded data removed]"
          },
          "metadata": {}
        }
      ]
    },
    {
      "cell_type": "markdown",
      "source": [
        "In conclusion, It seems that the LSTM did predict the partern very well and have a same partern as the grand true. And there is just a bit different from prediction and the grand true."
      ],
      "metadata": {
        "id": "AqMHBVnjCFhM"
      }
    },
    {
      "cell_type": "code",
      "source": [],
      "metadata": {
        "id": "Zgzw06w3D2Vg"
      },
      "execution_count": null,
      "outputs": []
    }
  ]
}